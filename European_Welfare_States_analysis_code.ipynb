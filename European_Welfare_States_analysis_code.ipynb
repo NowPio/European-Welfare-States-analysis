{
 "cells": [
  {
   "attachments": {},
   "cell_type": "markdown",
   "metadata": {},
   "source": [
    "### Heterogeneity of the contemporary European welfare states - comparative analysis of classical and modern clustering methods\n",
    "\n",
    "##### Author: Piotr Nowicki"
   ]
  },
  {
   "attachments": {},
   "cell_type": "markdown",
   "metadata": {},
   "source": [
    "This jupyter notebook presents code for my student project. It does not provide the whole context, nor does it discuss exhaustively results. It is only a showcase of the code part of the project. If you have any questions, you can contact me."
   ]
  },
  {
   "cell_type": "code",
   "execution_count": 4,
   "metadata": {},
   "outputs": [],
   "source": [
    "import numpy as np\n",
    "import pandas as pd\n",
    "from sklearn.decomposition import PCA\n",
    "from sklearn.cluster import AgglomerativeClustering\n",
    "from sklearn.metrics import silhouette_score, calinski_harabasz_score, rand_score, adjusted_rand_score\n",
    "from scipy.cluster.hierarchy import dendrogram\n",
    "from sklearn.cluster import DBSCAN\n",
    "from statsmodels.stats.outliers_influence import variance_inflation_factor\n",
    "import matplotlib.pyplot as plt\n",
    "import matplotlib.gridspec as gridspec\n",
    "from matplotlib import style\n",
    "import plotly.graph_objs as go\n",
    "import docx"
   ]
  },
  {
   "cell_type": "code",
   "execution_count": 5,
   "metadata": {},
   "outputs": [],
   "source": [
    "np.random.seed(14012023)"
   ]
  },
  {
   "attachments": {},
   "cell_type": "markdown",
   "metadata": {},
   "source": [
    "The data were collected from different sources (Eurostat, ILO, SWIID). They refer to various social spending (in relation to GDP or total expenditures), taxes (as % of GDP or total receipts), civil engagement, trust, difference between male and female employment rates, union and collective bargaining coverage rates, and income inequality (for disposable and market incomes). They were all gathered together in a separable file by my colleague."
   ]
  },
  {
   "cell_type": "code",
   "execution_count": 6,
   "metadata": {},
   "outputs": [],
   "source": [
    "data = pd.read_csv(\"data_final.csv\")"
   ]
  },
  {
   "cell_type": "code",
   "execution_count": 7,
   "metadata": {},
   "outputs": [
    {
     "data": {
      "text/html": [
       "<div>\n",
       "<style scoped>\n",
       "    .dataframe tbody tr th:only-of-type {\n",
       "        vertical-align: middle;\n",
       "    }\n",
       "\n",
       "    .dataframe tbody tr th {\n",
       "        vertical-align: top;\n",
       "    }\n",
       "\n",
       "    .dataframe thead th {\n",
       "        text-align: right;\n",
       "    }\n",
       "</style>\n",
       "<table border=\"1\" class=\"dataframe\">\n",
       "  <thead>\n",
       "    <tr style=\"text-align: right;\">\n",
       "      <th></th>\n",
       "      <th>Country</th>\n",
       "      <th>Disability_EXP</th>\n",
       "      <th>Fam_child_EXP</th>\n",
       "      <th>Housing_EXP</th>\n",
       "      <th>Sickness_EXP</th>\n",
       "      <th>Soc_prot_toGDP</th>\n",
       "      <th>Tot_EXP_toGDP</th>\n",
       "      <th>Unemployment_EXP</th>\n",
       "      <th>Tot_receipts</th>\n",
       "      <th>VAT</th>\n",
       "      <th>...</th>\n",
       "      <th>Diff_employment_MF</th>\n",
       "      <th>Formal_VA</th>\n",
       "      <th>Informal_VA</th>\n",
       "      <th>Pub_exp_edu</th>\n",
       "      <th>Union_density_rate</th>\n",
       "      <th>Barg_cov_rate</th>\n",
       "      <th>Trust_others</th>\n",
       "      <th>Trust_polSys</th>\n",
       "      <th>gini_disp</th>\n",
       "      <th>gini_mkt</th>\n",
       "    </tr>\n",
       "  </thead>\n",
       "  <tbody>\n",
       "    <tr>\n",
       "      <th>0</th>\n",
       "      <td>Austria</td>\n",
       "      <td>5.99</td>\n",
       "      <td>9.01</td>\n",
       "      <td>0.28</td>\n",
       "      <td>26.22</td>\n",
       "      <td>28.6</td>\n",
       "      <td>29.3</td>\n",
       "      <td>5.24</td>\n",
       "      <td>43.0</td>\n",
       "      <td>17.8</td>\n",
       "      <td>...</td>\n",
       "      <td>8.8</td>\n",
       "      <td>28.3</td>\n",
       "      <td>28.3</td>\n",
       "      <td>4.71</td>\n",
       "      <td>26.24</td>\n",
       "      <td>98.0</td>\n",
       "      <td>5.9</td>\n",
       "      <td>4.4</td>\n",
       "      <td>27.6</td>\n",
       "      <td>49.4</td>\n",
       "    </tr>\n",
       "    <tr>\n",
       "      <th>1</th>\n",
       "      <td>Belgium</td>\n",
       "      <td>8.83</td>\n",
       "      <td>7.20</td>\n",
       "      <td>0.82</td>\n",
       "      <td>26.01</td>\n",
       "      <td>27.3</td>\n",
       "      <td>28.7</td>\n",
       "      <td>5.22</td>\n",
       "      <td>45.1</td>\n",
       "      <td>14.9</td>\n",
       "      <td>...</td>\n",
       "      <td>8.0</td>\n",
       "      <td>20.4</td>\n",
       "      <td>20.8</td>\n",
       "      <td>6.25</td>\n",
       "      <td>49.08</td>\n",
       "      <td>96.0</td>\n",
       "      <td>5.7</td>\n",
       "      <td>4.6</td>\n",
       "      <td>26.2</td>\n",
       "      <td>48.6</td>\n",
       "    </tr>\n",
       "    <tr>\n",
       "      <th>2</th>\n",
       "      <td>Bulgaria</td>\n",
       "      <td>8.02</td>\n",
       "      <td>9.62</td>\n",
       "      <td>0.00</td>\n",
       "      <td>29.19</td>\n",
       "      <td>16.0</td>\n",
       "      <td>16.5</td>\n",
       "      <td>2.79</td>\n",
       "      <td>30.2</td>\n",
       "      <td>30.5</td>\n",
       "      <td>...</td>\n",
       "      <td>8.1</td>\n",
       "      <td>5.2</td>\n",
       "      <td>6.3</td>\n",
       "      <td>4.20</td>\n",
       "      <td>13.70</td>\n",
       "      <td>10.8</td>\n",
       "      <td>4.2</td>\n",
       "      <td>2.6</td>\n",
       "      <td>38.9</td>\n",
       "      <td>49.1</td>\n",
       "    </tr>\n",
       "    <tr>\n",
       "      <th>3</th>\n",
       "      <td>Switzerland</td>\n",
       "      <td>8.14</td>\n",
       "      <td>5.74</td>\n",
       "      <td>1.20</td>\n",
       "      <td>29.60</td>\n",
       "      <td>25.6</td>\n",
       "      <td>27.1</td>\n",
       "      <td>2.88</td>\n",
       "      <td>27.3</td>\n",
       "      <td>11.3</td>\n",
       "      <td>...</td>\n",
       "      <td>8.7</td>\n",
       "      <td>36.5</td>\n",
       "      <td>48.2</td>\n",
       "      <td>4.77</td>\n",
       "      <td>14.43</td>\n",
       "      <td>47.7</td>\n",
       "      <td>6.4</td>\n",
       "      <td>6.6</td>\n",
       "      <td>30.6</td>\n",
       "      <td>43.7</td>\n",
       "    </tr>\n",
       "    <tr>\n",
       "      <th>4</th>\n",
       "      <td>Cyprus</td>\n",
       "      <td>3.96</td>\n",
       "      <td>5.68</td>\n",
       "      <td>1.77</td>\n",
       "      <td>24.68</td>\n",
       "      <td>17.7</td>\n",
       "      <td>18.1</td>\n",
       "      <td>4.85</td>\n",
       "      <td>34.0</td>\n",
       "      <td>26.2</td>\n",
       "      <td>...</td>\n",
       "      <td>11.6</td>\n",
       "      <td>7.2</td>\n",
       "      <td>2.6</td>\n",
       "      <td>5.24</td>\n",
       "      <td>43.28</td>\n",
       "      <td>43.3</td>\n",
       "      <td>4.5</td>\n",
       "      <td>2.6</td>\n",
       "      <td>30.1</td>\n",
       "      <td>49.7</td>\n",
       "    </tr>\n",
       "  </tbody>\n",
       "</table>\n",
       "<p>5 rows × 22 columns</p>\n",
       "</div>"
      ],
      "text/plain": [
       "       Country  Disability_EXP  Fam_child_EXP  Housing_EXP  Sickness_EXP  \\\n",
       "0      Austria            5.99           9.01         0.28         26.22   \n",
       "1      Belgium            8.83           7.20         0.82         26.01   \n",
       "2     Bulgaria            8.02           9.62         0.00         29.19   \n",
       "3  Switzerland            8.14           5.74         1.20         29.60   \n",
       "4       Cyprus            3.96           5.68         1.77         24.68   \n",
       "\n",
       "   Soc_prot_toGDP  Tot_EXP_toGDP  Unemployment_EXP  Tot_receipts   VAT  ...  \\\n",
       "0            28.6           29.3              5.24          43.0  17.8  ...   \n",
       "1            27.3           28.7              5.22          45.1  14.9  ...   \n",
       "2            16.0           16.5              2.79          30.2  30.5  ...   \n",
       "3            25.6           27.1              2.88          27.3  11.3  ...   \n",
       "4            17.7           18.1              4.85          34.0  26.2  ...   \n",
       "\n",
       "   Diff_employment_MF  Formal_VA  Informal_VA  Pub_exp_edu  \\\n",
       "0                 8.8       28.3         28.3         4.71   \n",
       "1                 8.0       20.4         20.8         6.25   \n",
       "2                 8.1        5.2          6.3         4.20   \n",
       "3                 8.7       36.5         48.2         4.77   \n",
       "4                11.6        7.2          2.6         5.24   \n",
       "\n",
       "   Union_density_rate  Barg_cov_rate  Trust_others  Trust_polSys  gini_disp  \\\n",
       "0               26.24           98.0           5.9           4.4       27.6   \n",
       "1               49.08           96.0           5.7           4.6       26.2   \n",
       "2               13.70           10.8           4.2           2.6       38.9   \n",
       "3               14.43           47.7           6.4           6.6       30.6   \n",
       "4               43.28           43.3           4.5           2.6       30.1   \n",
       "\n",
       "   gini_mkt  \n",
       "0      49.4  \n",
       "1      48.6  \n",
       "2      49.1  \n",
       "3      43.7  \n",
       "4      49.7  \n",
       "\n",
       "[5 rows x 22 columns]"
      ]
     },
     "execution_count": 7,
     "metadata": {},
     "output_type": "execute_result"
    }
   ],
   "source": [
    "data.head()"
   ]
  },
  {
   "cell_type": "code",
   "execution_count": 8,
   "metadata": {},
   "outputs": [
    {
     "data": {
      "text/plain": [
       "Index(['Country', 'Disability_EXP', 'Fam_child_EXP', 'Housing_EXP',\n",
       "       'Sickness_EXP', 'Soc_prot_toGDP', 'Tot_EXP_toGDP', 'Unemployment_EXP',\n",
       "       'Tot_receipts', 'VAT', 'Current_taxes', 'Net_soc_cont',\n",
       "       'Diff_employment_MF', 'Formal_VA', 'Informal_VA', 'Pub_exp_edu',\n",
       "       'Union_density_rate', 'Barg_cov_rate', 'Trust_others', 'Trust_polSys',\n",
       "       'gini_disp', 'gini_mkt'],\n",
       "      dtype='object')"
      ]
     },
     "execution_count": 8,
     "metadata": {},
     "output_type": "execute_result"
    }
   ],
   "source": [
    "data.columns"
   ]
  },
  {
   "attachments": {},
   "cell_type": "markdown",
   "metadata": {},
   "source": [
    "Statistical description"
   ]
  },
  {
   "cell_type": "code",
   "execution_count": 9,
   "metadata": {},
   "outputs": [
    {
     "data": {
      "text/html": [
       "<div>\n",
       "<style scoped>\n",
       "    .dataframe tbody tr th:only-of-type {\n",
       "        vertical-align: middle;\n",
       "    }\n",
       "\n",
       "    .dataframe tbody tr th {\n",
       "        vertical-align: top;\n",
       "    }\n",
       "\n",
       "    .dataframe thead th {\n",
       "        text-align: right;\n",
       "    }\n",
       "</style>\n",
       "<table border=\"1\" class=\"dataframe\">\n",
       "  <thead>\n",
       "    <tr style=\"text-align: right;\">\n",
       "      <th></th>\n",
       "      <th>count</th>\n",
       "      <th>mean</th>\n",
       "      <th>std</th>\n",
       "      <th>min</th>\n",
       "      <th>25%</th>\n",
       "      <th>50%</th>\n",
       "      <th>75%</th>\n",
       "      <th>max</th>\n",
       "    </tr>\n",
       "  </thead>\n",
       "  <tbody>\n",
       "    <tr>\n",
       "      <th>Disability_EXP</th>\n",
       "      <td>30.0</td>\n",
       "      <td>8.08</td>\n",
       "      <td>3.30</td>\n",
       "      <td>3.76</td>\n",
       "      <td>5.70</td>\n",
       "      <td>8.08</td>\n",
       "      <td>9.26</td>\n",
       "      <td>16.06</td>\n",
       "    </tr>\n",
       "    <tr>\n",
       "      <th>Fam_child_EXP</th>\n",
       "      <td>30.0</td>\n",
       "      <td>8.96</td>\n",
       "      <td>2.95</td>\n",
       "      <td>3.90</td>\n",
       "      <td>6.28</td>\n",
       "      <td>9.22</td>\n",
       "      <td>10.54</td>\n",
       "      <td>15.31</td>\n",
       "    </tr>\n",
       "    <tr>\n",
       "      <th>Housing_EXP</th>\n",
       "      <td>30.0</td>\n",
       "      <td>0.94</td>\n",
       "      <td>0.98</td>\n",
       "      <td>0.00</td>\n",
       "      <td>0.16</td>\n",
       "      <td>0.46</td>\n",
       "      <td>1.50</td>\n",
       "      <td>3.87</td>\n",
       "    </tr>\n",
       "    <tr>\n",
       "      <th>Sickness_EXP</th>\n",
       "      <td>30.0</td>\n",
       "      <td>28.56</td>\n",
       "      <td>4.48</td>\n",
       "      <td>20.33</td>\n",
       "      <td>25.88</td>\n",
       "      <td>28.46</td>\n",
       "      <td>32.34</td>\n",
       "      <td>38.17</td>\n",
       "    </tr>\n",
       "    <tr>\n",
       "      <th>Soc_prot_toGDP</th>\n",
       "      <td>30.0</td>\n",
       "      <td>22.29</td>\n",
       "      <td>5.56</td>\n",
       "      <td>13.30</td>\n",
       "      <td>16.65</td>\n",
       "      <td>22.45</td>\n",
       "      <td>27.25</td>\n",
       "      <td>31.20</td>\n",
       "    </tr>\n",
       "    <tr>\n",
       "      <th>Tot_EXP_toGDP</th>\n",
       "      <td>30.0</td>\n",
       "      <td>22.95</td>\n",
       "      <td>5.90</td>\n",
       "      <td>13.90</td>\n",
       "      <td>17.00</td>\n",
       "      <td>23.10</td>\n",
       "      <td>28.48</td>\n",
       "      <td>33.40</td>\n",
       "    </tr>\n",
       "    <tr>\n",
       "      <th>Unemployment_EXP</th>\n",
       "      <td>30.0</td>\n",
       "      <td>3.42</td>\n",
       "      <td>1.59</td>\n",
       "      <td>0.30</td>\n",
       "      <td>2.61</td>\n",
       "      <td>2.96</td>\n",
       "      <td>4.76</td>\n",
       "      <td>7.02</td>\n",
       "    </tr>\n",
       "    <tr>\n",
       "      <th>Tot_receipts</th>\n",
       "      <td>30.0</td>\n",
       "      <td>36.69</td>\n",
       "      <td>6.12</td>\n",
       "      <td>22.60</td>\n",
       "      <td>33.62</td>\n",
       "      <td>36.40</td>\n",
       "      <td>41.58</td>\n",
       "      <td>47.70</td>\n",
       "    </tr>\n",
       "    <tr>\n",
       "      <th>VAT</th>\n",
       "      <td>30.0</td>\n",
       "      <td>21.43</td>\n",
       "      <td>5.12</td>\n",
       "      <td>11.30</td>\n",
       "      <td>18.27</td>\n",
       "      <td>21.15</td>\n",
       "      <td>23.78</td>\n",
       "      <td>35.60</td>\n",
       "    </tr>\n",
       "    <tr>\n",
       "      <th>Current_taxes</th>\n",
       "      <td>30.0</td>\n",
       "      <td>31.88</td>\n",
       "      <td>12.05</td>\n",
       "      <td>17.30</td>\n",
       "      <td>22.02</td>\n",
       "      <td>29.35</td>\n",
       "      <td>38.50</td>\n",
       "      <td>65.30</td>\n",
       "    </tr>\n",
       "    <tr>\n",
       "      <th>Net_soc_cont</th>\n",
       "      <td>30.0</td>\n",
       "      <td>30.70</td>\n",
       "      <td>10.40</td>\n",
       "      <td>1.70</td>\n",
       "      <td>28.45</td>\n",
       "      <td>32.40</td>\n",
       "      <td>35.78</td>\n",
       "      <td>44.00</td>\n",
       "    </tr>\n",
       "    <tr>\n",
       "      <th>Diff_employment_MF</th>\n",
       "      <td>30.0</td>\n",
       "      <td>9.67</td>\n",
       "      <td>5.19</td>\n",
       "      <td>1.60</td>\n",
       "      <td>6.12</td>\n",
       "      <td>8.40</td>\n",
       "      <td>11.82</td>\n",
       "      <td>20.70</td>\n",
       "    </tr>\n",
       "    <tr>\n",
       "      <th>Formal_VA</th>\n",
       "      <td>30.0</td>\n",
       "      <td>20.70</td>\n",
       "      <td>12.95</td>\n",
       "      <td>3.20</td>\n",
       "      <td>9.18</td>\n",
       "      <td>16.35</td>\n",
       "      <td>32.20</td>\n",
       "      <td>48.00</td>\n",
       "    </tr>\n",
       "    <tr>\n",
       "      <th>Informal_VA</th>\n",
       "      <td>30.0</td>\n",
       "      <td>30.45</td>\n",
       "      <td>23.98</td>\n",
       "      <td>0.90</td>\n",
       "      <td>12.15</td>\n",
       "      <td>22.05</td>\n",
       "      <td>46.60</td>\n",
       "      <td>82.50</td>\n",
       "    </tr>\n",
       "    <tr>\n",
       "      <th>Pub_exp_edu</th>\n",
       "      <td>30.0</td>\n",
       "      <td>4.79</td>\n",
       "      <td>1.04</td>\n",
       "      <td>3.16</td>\n",
       "      <td>4.00</td>\n",
       "      <td>4.61</td>\n",
       "      <td>5.22</td>\n",
       "      <td>7.09</td>\n",
       "    </tr>\n",
       "    <tr>\n",
       "      <th>Union_density_rate</th>\n",
       "      <td>30.0</td>\n",
       "      <td>27.74</td>\n",
       "      <td>21.43</td>\n",
       "      <td>6.02</td>\n",
       "      <td>12.52</td>\n",
       "      <td>19.87</td>\n",
       "      <td>40.28</td>\n",
       "      <td>91.42</td>\n",
       "    </tr>\n",
       "    <tr>\n",
       "      <th>Barg_cov_rate</th>\n",
       "      <td>30.0</td>\n",
       "      <td>54.11</td>\n",
       "      <td>31.00</td>\n",
       "      <td>7.40</td>\n",
       "      <td>26.18</td>\n",
       "      <td>49.75</td>\n",
       "      <td>80.25</td>\n",
       "      <td>99.00</td>\n",
       "    </tr>\n",
       "    <tr>\n",
       "      <th>Trust_others</th>\n",
       "      <td>30.0</td>\n",
       "      <td>6.01</td>\n",
       "      <td>0.88</td>\n",
       "      <td>4.20</td>\n",
       "      <td>5.35</td>\n",
       "      <td>5.95</td>\n",
       "      <td>6.48</td>\n",
       "      <td>8.30</td>\n",
       "    </tr>\n",
       "    <tr>\n",
       "      <th>Trust_polSys</th>\n",
       "      <td>30.0</td>\n",
       "      <td>4.00</td>\n",
       "      <td>1.43</td>\n",
       "      <td>1.70</td>\n",
       "      <td>2.85</td>\n",
       "      <td>4.05</td>\n",
       "      <td>4.97</td>\n",
       "      <td>6.60</td>\n",
       "    </tr>\n",
       "    <tr>\n",
       "      <th>gini_disp</th>\n",
       "      <td>30.0</td>\n",
       "      <td>29.31</td>\n",
       "      <td>3.69</td>\n",
       "      <td>22.60</td>\n",
       "      <td>26.70</td>\n",
       "      <td>29.35</td>\n",
       "      <td>30.88</td>\n",
       "      <td>38.90</td>\n",
       "    </tr>\n",
       "    <tr>\n",
       "      <th>gini_mkt</th>\n",
       "      <td>30.0</td>\n",
       "      <td>47.48</td>\n",
       "      <td>3.94</td>\n",
       "      <td>37.30</td>\n",
       "      <td>45.20</td>\n",
       "      <td>48.35</td>\n",
       "      <td>49.92</td>\n",
       "      <td>52.40</td>\n",
       "    </tr>\n",
       "  </tbody>\n",
       "</table>\n",
       "</div>"
      ],
      "text/plain": [
       "                    count   mean    std    min    25%    50%    75%    max\n",
       "Disability_EXP       30.0   8.08   3.30   3.76   5.70   8.08   9.26  16.06\n",
       "Fam_child_EXP        30.0   8.96   2.95   3.90   6.28   9.22  10.54  15.31\n",
       "Housing_EXP          30.0   0.94   0.98   0.00   0.16   0.46   1.50   3.87\n",
       "Sickness_EXP         30.0  28.56   4.48  20.33  25.88  28.46  32.34  38.17\n",
       "Soc_prot_toGDP       30.0  22.29   5.56  13.30  16.65  22.45  27.25  31.20\n",
       "Tot_EXP_toGDP        30.0  22.95   5.90  13.90  17.00  23.10  28.48  33.40\n",
       "Unemployment_EXP     30.0   3.42   1.59   0.30   2.61   2.96   4.76   7.02\n",
       "Tot_receipts         30.0  36.69   6.12  22.60  33.62  36.40  41.58  47.70\n",
       "VAT                  30.0  21.43   5.12  11.30  18.27  21.15  23.78  35.60\n",
       "Current_taxes        30.0  31.88  12.05  17.30  22.02  29.35  38.50  65.30\n",
       "Net_soc_cont         30.0  30.70  10.40   1.70  28.45  32.40  35.78  44.00\n",
       "Diff_employment_MF   30.0   9.67   5.19   1.60   6.12   8.40  11.82  20.70\n",
       "Formal_VA            30.0  20.70  12.95   3.20   9.18  16.35  32.20  48.00\n",
       "Informal_VA          30.0  30.45  23.98   0.90  12.15  22.05  46.60  82.50\n",
       "Pub_exp_edu          30.0   4.79   1.04   3.16   4.00   4.61   5.22   7.09\n",
       "Union_density_rate   30.0  27.74  21.43   6.02  12.52  19.87  40.28  91.42\n",
       "Barg_cov_rate        30.0  54.11  31.00   7.40  26.18  49.75  80.25  99.00\n",
       "Trust_others         30.0   6.01   0.88   4.20   5.35   5.95   6.48   8.30\n",
       "Trust_polSys         30.0   4.00   1.43   1.70   2.85   4.05   4.97   6.60\n",
       "gini_disp            30.0  29.31   3.69  22.60  26.70  29.35  30.88  38.90\n",
       "gini_mkt             30.0  47.48   3.94  37.30  45.20  48.35  49.92  52.40"
      ]
     },
     "execution_count": 9,
     "metadata": {},
     "output_type": "execute_result"
    }
   ],
   "source": [
    "stats = data.describe().round(2).T\n",
    "stats"
   ]
  },
  {
   "cell_type": "code",
   "execution_count": null,
   "metadata": {},
   "outputs": [],
   "source": [
    "# Preparing a summary table of the variables\n",
    "doc = docx.Document()\n",
    "t = doc.add_table(rows=1, cols=stats.shape[1]+1)\n",
    "\n",
    "t.style = 'TableGrid'\n",
    "\n",
    "t.cell(0, 0).text = 'variable'\n",
    "for j in range(stats.shape[1]):\n",
    "    t.cell(0, j+1).text = stats.columns[j]\n",
    "\n",
    "for i in range(stats.shape[0]):\n",
    "    row = t.add_row()\n",
    "    row.cells[0].text = stats.index[i]\n",
    "    for j in range(stats.shape[1]):\n",
    "        cell = stats.iat[i, j]\n",
    "        row.cells[j+1].text = str(cell)\n",
    "\n",
    "# doc.save('summary_table.docx')"
   ]
  },
  {
   "attachments": {},
   "cell_type": "markdown",
   "metadata": {},
   "source": [
    "Standardisation of the data for further analysis"
   ]
  },
  {
   "cell_type": "code",
   "execution_count": 11,
   "metadata": {},
   "outputs": [],
   "source": [
    "data_y = data[['Country']] # countries labels\n",
    "data_x = data.iloc[:, 1:] # select numeric variables\n",
    "data_scaled = (data_x - np.mean(data_x, axis=0))/np.std(data_x, axis=0) # standardisation"
   ]
  },
  {
   "cell_type": "code",
   "execution_count": 12,
   "metadata": {},
   "outputs": [
    {
     "data": {
      "text/plain": [
       "(30, 21)"
      ]
     },
     "execution_count": 12,
     "metadata": {},
     "output_type": "execute_result"
    }
   ],
   "source": [
    "data_scaled.shape"
   ]
  },
  {
   "cell_type": "code",
   "execution_count": 13,
   "metadata": {},
   "outputs": [
    {
     "data": {
      "text/plain": [
       "array([4.536000e+01, 4.517000e+01, 9.550000e+00, 1.003200e+02,\n",
       "       1.334791e+04, 1.378173e+04, 2.456000e+01, 4.900800e+02,\n",
       "       1.328200e+02, 1.391100e+02, 6.467000e+01, 1.944000e+01,\n",
       "       5.633000e+01, 2.589000e+01, 1.694900e+02, 2.502000e+01,\n",
       "       3.614000e+01, 2.023900e+02, 2.917000e+01, 4.616500e+02,\n",
       "       9.280000e+02])"
      ]
     },
     "execution_count": 13,
     "metadata": {},
     "output_type": "execute_result"
    }
   ],
   "source": [
    "np.round([variance_inflation_factor(data.iloc[:,1:], i) for i in range(data.shape[1]-1)], 2) # VIF for the non-standardised variables. Strong relationships."
   ]
  },
  {
   "cell_type": "code",
   "execution_count": 14,
   "metadata": {},
   "outputs": [
    {
     "data": {
      "text/plain": [
       "array([  6.62,   4.41,   5.18,   3.96, 784.33, 877.18,   4.22,  22.88,\n",
       "         8.  ,  37.1 ,  15.2 ,   4.35,  18.34,  12.63,   7.54,   9.18,\n",
       "         8.72,   4.16,   3.22,  10.75,   6.22])"
      ]
     },
     "execution_count": 14,
     "metadata": {},
     "output_type": "execute_result"
    }
   ],
   "source": [
    "np.round([variance_inflation_factor(data_scaled, i) for i in range(data_scaled.shape[1])], 2) # VIF for the standardised variables. Values indicate medium/strong correlations between the variables. "
   ]
  },
  {
   "attachments": {},
   "cell_type": "markdown",
   "metadata": {},
   "source": [
    "### PCA"
   ]
  },
  {
   "attachments": {},
   "cell_type": "markdown",
   "metadata": {},
   "source": [
    "Dimensionality reduction is conducted because of multicollinearity of the data."
   ]
  },
  {
   "cell_type": "code",
   "execution_count": 15,
   "metadata": {},
   "outputs": [],
   "source": [
    "pca = PCA()\n",
    "X = pca.fit_transform(data_scaled)"
   ]
  },
  {
   "cell_type": "code",
   "execution_count": 16,
   "metadata": {},
   "outputs": [
    {
     "name": "stdout",
     "output_type": "stream",
     "text": [
      "[8.04862873e+00 3.55857400e+00 1.87950677e+00 1.74409028e+00\n",
      " 1.37113107e+00 1.25437584e+00 8.67145881e-01 6.37815426e-01\n",
      " 5.80362121e-01 4.29757206e-01 3.17251879e-01 2.85806189e-01\n",
      " 1.92049564e-01 1.39225005e-01 1.36550579e-01 9.51459451e-02\n",
      " 8.50287456e-02 5.12571929e-02 3.63066408e-02 1.35088694e-02\n",
      " 6.20001976e-04] \n",
      "\n",
      "[3.70492434e+01 1.63807374e+01 8.65169784e+00 8.02835207e+00\n",
      " 6.31155572e+00 5.77411100e+00 3.99162390e+00 2.93597577e+00\n",
      " 2.67150818e+00 1.97824746e+00 1.46036579e+00 1.31561579e+00\n",
      " 8.84037675e-01 6.40877006e-01 6.28566155e-01 4.37973398e-01\n",
      " 3.91402162e-01 2.35945809e-01 1.67125807e-01 6.21836843e-02\n",
      " 2.85397735e-03]\n"
     ]
    }
   ],
   "source": [
    "print(pca.explained_variance_, '\\n') # eigenvalues\n",
    "print(pca.explained_variance_ratio_*100) # percentage of explained variance"
   ]
  },
  {
   "cell_type": "code",
   "execution_count": 17,
   "metadata": {},
   "outputs": [
    {
     "name": "stdout",
     "output_type": "stream",
     "text": [
      "1.03448275862069\n",
      "6\n"
     ]
    }
   ],
   "source": [
    "print(np.mean(pca.explained_variance_)) # mean eigenvalue\n",
    "print(sum(pca.explained_variance_ >= np.mean(pca.explained_variance_))) # How many eigenvalues are higher than the mean?"
   ]
  },
  {
   "cell_type": "code",
   "execution_count": 18,
   "metadata": {},
   "outputs": [
    {
     "data": {
      "text/plain": [
       "6"
      ]
     },
     "execution_count": 18,
     "metadata": {},
     "output_type": "execute_result"
    }
   ],
   "source": [
    "sum(pca.explained_variance_ratio_*100 >= 5) # How many eigenvalues do explain more than 5% of variance?"
   ]
  },
  {
   "cell_type": "code",
   "execution_count": 19,
   "metadata": {},
   "outputs": [
    {
     "data": {
      "text/plain": [
       "array([ 37.04924335,  53.4299808 ,  62.08167864,  70.11003072,\n",
       "        76.42158644,  82.19569744,  86.18732134,  89.12329711,\n",
       "        91.79480529,  93.77305274,  95.23341854,  96.54903433,\n",
       "        97.433072  ,  98.07394901,  98.70251516,  99.14048856,\n",
       "        99.53189072,  99.76783653,  99.93496234,  99.99714602,\n",
       "       100.        ])"
      ]
     },
     "execution_count": 19,
     "metadata": {},
     "output_type": "execute_result"
    }
   ],
   "source": [
    "np.cumsum(pca.explained_variance_ratio_*100) # cumulative explained variance"
   ]
  },
  {
   "cell_type": "code",
   "execution_count": 20,
   "metadata": {},
   "outputs": [
    {
     "data": {
      "text/plain": [
       "[<matplotlib.lines.Line2D at 0x20c0937efa0>]"
      ]
     },
     "execution_count": 20,
     "metadata": {},
     "output_type": "execute_result"
    },
    {
     "data": {
      "image/png": "[encoded data removed]",
      "text/plain": [
       "<Figure size 432x288 with 1 Axes>"
      ]
     },
     "metadata": {},
     "output_type": "display_data"
    }
   ],
   "source": [
    "# Eigenvalues plot. The red line indicates an eigenvalue of 1.\n",
    "\n",
    "plt.style.use('fivethirtyeight')\n",
    "plt.ylabel('Eigenvalue')\n",
    "plt.xlabel('No. of components')\n",
    "plt.xticks(ticks = np.arange(len(pca.explained_variance_), step=3), labels = np.arange(1, len(pca.explained_variance_), step=3))\n",
    "plt.axhline(y=1, color='r', linestyle='--')\n",
    "plt.plot(pca.explained_variance_)"
   ]
  },
  {
   "cell_type": "code",
   "execution_count": 21,
   "metadata": {},
   "outputs": [
    {
     "data": {
      "text/plain": [
       "[<matplotlib.lines.Line2D at 0x20c0944e6d0>]"
      ]
     },
     "execution_count": 21,
     "metadata": {},
     "output_type": "execute_result"
    },
    {
     "data": {
      "image/png": "[encoded data removed]",
      "text/plain": [
       "<Figure size 432x288 with 1 Axes>"
      ]
     },
     "metadata": {},
     "output_type": "display_data"
    }
   ],
   "source": [
    "# Cumulative explained variance. The red line indicates explained variance at the level of 80%.\n",
    "\n",
    "plt.style.use('fivethirtyeight')\n",
    "plt.ylabel('Cumulative explained variance [%]')\n",
    "plt.xlabel('No. of components')\n",
    "plt.xticks(ticks = np.arange(len(pca.explained_variance_), step=3), labels = np.arange(1, len(pca.explained_variance_), step=3))\n",
    "plt.axhline(y=80, color='r', linestyle='--')\n",
    "plt.plot(np.cumsum(pca.explained_variance_ratio_*100))"
   ]
  },
  {
   "attachments": {},
   "cell_type": "markdown",
   "metadata": {},
   "source": [
    "Up to the 6th principal component the eigenvalues are higher than the mean and one. Also, the cumulative explained variance is higher than 80% and each of the 6 principal components explain more than 5% of variance."
   ]
  },
  {
   "cell_type": "code",
   "execution_count": 22,
   "metadata": {},
   "outputs": [],
   "source": [
    "# PCA for 6 components\n",
    "pca1 = PCA(n_components=6)\n",
    "X = pca1.fit_transform(data_scaled)"
   ]
  },
  {
   "cell_type": "code",
   "execution_count": 23,
   "metadata": {},
   "outputs": [
    {
     "data": {
      "text/plain": [
       "(30, 6)"
      ]
     },
     "execution_count": 23,
     "metadata": {},
     "output_type": "execute_result"
    }
   ],
   "source": [
    "X.shape"
   ]
  },
  {
   "attachments": {},
   "cell_type": "markdown",
   "metadata": {},
   "source": [
    "### Hierarchical clustering"
   ]
  },
  {
   "attachments": {},
   "cell_type": "markdown",
   "metadata": {},
   "source": [
    "Hierarchical clustering was chosen because it was found to be commonly used in literature."
   ]
  },
  {
   "cell_type": "code",
   "execution_count": 24,
   "metadata": {},
   "outputs": [],
   "source": [
    "# defining a function to plot dendrograms\n",
    "# Source: https://scikit-learn.org/stable/auto_examples/cluster/plot_agglomerative_dendrogram.html#sphx-glr-auto-examples-cluster-plot-agglomerative-dendrogram-py\n",
    "\n",
    "def plot_dendrogram(model, **kwargs):\n",
    "    # Create linkage matrix and then plot the dendrogram\n",
    "\n",
    "    # create the counts of samples under each node\n",
    "    counts = np.zeros(model.children_.shape[0])\n",
    "    n_samples = len(model.labels_)\n",
    "    for i, merge in enumerate(model.children_):\n",
    "        current_count = 0\n",
    "        for child_idx in merge:\n",
    "            if child_idx < n_samples:\n",
    "                current_count += 1  # leaf node\n",
    "            else:\n",
    "                current_count += counts[child_idx - n_samples]\n",
    "        counts[i] = current_count\n",
    "\n",
    "    linkage_matrix = np.column_stack(\n",
    "        [model.children_, model.distances_, counts]\n",
    "    ).astype(float)\n",
    "\n",
    "    # Plot the corresponding dendrogram\n",
    "    dendrogram(linkage_matrix, **kwargs)"
   ]
  },
  {
   "attachments": {},
   "cell_type": "markdown",
   "metadata": {},
   "source": [
    "Change \"Czech_Republic\" to \"Czechia\". It will better fit in graphs."
   ]
  },
  {
   "cell_type": "code",
   "execution_count": null,
   "metadata": {},
   "outputs": [],
   "source": [
    "czech = np.where(data_y.Country == \"Czech_Republic\")[0]\n",
    "data_y.iloc[czech, ] = \"Czechia\""
   ]
  },
  {
   "attachments": {},
   "cell_type": "markdown",
   "metadata": {},
   "source": [
    "Plotting dendrograms for different linkage methods."
   ]
  },
  {
   "cell_type": "code",
   "execution_count": 26,
   "metadata": {},
   "outputs": [
    {
     "data": {
      "image/png": "[encoded data removed]",
      "text/plain": [
       "<Figure size 1080x720 with 4 Axes>"
      ]
     },
     "metadata": {},
     "output_type": "display_data"
    }
   ],
   "source": [
    "agg_clust1 = AgglomerativeClustering(distance_threshold=0, n_clusters=None, linkage='ward')\n",
    "hierarchical_model1 = agg_clust1.fit(X)\n",
    "agg_clust2 = AgglomerativeClustering(distance_threshold=0, n_clusters=None, linkage='single')\n",
    "hierarchical_model2 = agg_clust2.fit(X)\n",
    "agg_clust3 = AgglomerativeClustering(distance_threshold=0, n_clusters=None, linkage='complete')\n",
    "hierarchical_model3 = agg_clust3.fit(X)\n",
    "agg_clust4 = AgglomerativeClustering(distance_threshold=0, n_clusters=None, linkage='average')\n",
    "hierarchical_model4 = agg_clust4.fit(X)\n",
    "\n",
    "fig, ax = plt.subplots(2, 2, figsize=(15,10))\n",
    "\n",
    "plot_dendrogram(hierarchical_model1, labels=np.array(data_y.Country), leaf_font_size=10, ax=ax[0,0], leaf_rotation=90)\n",
    "plot_dendrogram(hierarchical_model2, labels=np.array(data_y.Country), leaf_font_size=10, ax=ax[0,1], leaf_rotation=90)\n",
    "plot_dendrogram(hierarchical_model3, labels=np.array(data_y.Country), leaf_font_size=10, ax=ax[1,0], leaf_rotation=90)\n",
    "plot_dendrogram(hierarchical_model4, labels=np.array(data_y.Country), leaf_font_size=10, ax=ax[1,1], leaf_rotation=90)\n",
    "\n",
    "ax[0,0].set_title('Ward')\n",
    "ax[0,1].set_title('Single')\n",
    "ax[1,0].set_title('Complete')\n",
    "ax[1,1].set_title('Average')\n",
    "\n",
    "fig.tight_layout()\n",
    "plt.show()"
   ]
  },
  {
   "attachments": {},
   "cell_type": "markdown",
   "metadata": {},
   "source": [
    "Silhouette statistics for various number of clusters."
   ]
  },
  {
   "cell_type": "code",
   "execution_count": 27,
   "metadata": {},
   "outputs": [],
   "source": [
    "silhouette_scores1 = []\n",
    "silhouette_scores2 = []\n",
    "silhouette_scores3 = []\n",
    "silhouette_scores4 = []\n",
    "\n",
    "for i in range(3, 20):\n",
    "    clust1 = AgglomerativeClustering(n_clusters=i, linkage='ward').fit(X)\n",
    "    clust2 = AgglomerativeClustering(n_clusters=i, linkage='single').fit(X)\n",
    "    clust3 = AgglomerativeClustering(n_clusters=i, linkage='complete').fit(X)\n",
    "    clust4 = AgglomerativeClustering(n_clusters=i, linkage='average').fit(X)\n",
    "\n",
    "    silhouette_scores1.append(silhouette_score(X, clust1.labels_))\n",
    "    silhouette_scores2.append(silhouette_score(X, clust2.labels_))\n",
    "    silhouette_scores3.append(silhouette_score(X, clust3.labels_))\n",
    "    silhouette_scores4.append(silhouette_score(X, clust4.labels_))"
   ]
  },
  {
   "attachments": {},
   "cell_type": "markdown",
   "metadata": {},
   "source": [
    "Silhouette statistics plots."
   ]
  },
  {
   "cell_type": "code",
   "execution_count": 28,
   "metadata": {},
   "outputs": [
    {
     "data": {
      "image/png": "[encoded data removed]",
      "text/plain": [
       "<Figure size 1080x720 with 4 Axes>"
      ]
     },
     "metadata": {},
     "output_type": "display_data"
    }
   ],
   "source": [
    "plt.style.use('fivethirtyeight')\n",
    "\n",
    "fig, ax = plt.subplots(2, 2, figsize=(15, 10), sharey=True)\n",
    "\n",
    "fig.supylabel('Silhouette')\n",
    "fig.supxlabel('Liczba klastrów')\n",
    "\n",
    "ax[0,0].set_title('Ward')\n",
    "ax[0,1].set_title('Single')\n",
    "ax[1,0].set_title('Complete')\n",
    "ax[1,1].set_title('Average')\n",
    "\n",
    "ax[0,0].set_xticks(ticks = np.arange(0, 17, step=3),labels = np.arange(3,20, step=3))\n",
    "ax[0,1].set_xticks(ticks = np.arange(0, 17, step=3),labels = np.arange(3,20, step=3))\n",
    "ax[1,0].set_xticks(ticks = np.arange(0, 17, step=3),labels = np.arange(3,20, step=3))\n",
    "ax[1,1].set_xticks(ticks = np.arange(0, 17, step=3),labels = np.arange(3,20, step=3))\n",
    "\n",
    "ax[0,0].plot(silhouette_scores1, color='gray')\n",
    "ax[0,1].plot(silhouette_scores2, color='red')\n",
    "ax[1,0].plot(silhouette_scores3, color='blue')\n",
    "ax[1,1].plot(silhouette_scores4, color='purple')\n",
    "\n",
    "fig.tight_layout()"
   ]
  },
  {
   "attachments": {},
   "cell_type": "markdown",
   "metadata": {},
   "source": [
    "Maximum silhouette statistics values."
   ]
  },
  {
   "cell_type": "code",
   "execution_count": 29,
   "metadata": {},
   "outputs": [
    {
     "name": "stdout",
     "output_type": "stream",
     "text": [
      "Ward: 0.27859862554089154 \n",
      " Single: 0.22793208827708575 \n",
      " Complete: 0.27427917713339595 \n",
      " Average: 0.26922768037526973 \n",
      "\n"
     ]
    }
   ],
   "source": [
    "print('Ward: {} \\n Single: {} \\n Complete: {} \\n Average: {} \\n'.format(\n",
    "np.max(silhouette_scores1), \n",
    "np.max(silhouette_scores2), \n",
    "np.max(silhouette_scores3), \n",
    "np.max(silhouette_scores4)))"
   ]
  },
  {
   "attachments": {},
   "cell_type": "markdown",
   "metadata": {},
   "source": [
    "Searching for a cut-off point to colour properly the dendrograms (replace arguments 'model' and 'p')."
   ]
  },
  {
   "cell_type": "code",
   "execution_count": 30,
   "metadata": {},
   "outputs": [
    {
     "data": {
      "image/png": "[encoded data removed]",
      "text/plain": [
       "<Figure size 432x288 with 1 Axes>"
      ]
     },
     "metadata": {},
     "output_type": "display_data"
    }
   ],
   "source": [
    "plot_dendrogram(hierarchical_model1, labels=np.array(data_y.Country), leaf_font_size=8, truncate_mode='lastp', p=8)"
   ]
  },
  {
   "attachments": {},
   "cell_type": "markdown",
   "metadata": {},
   "source": [
    "Plotting dendrograms for the optimum numbers of clusters (based on the silhouette statistics). Linkage 'single' is omitted because it doesn't make sense."
   ]
  },
  {
   "cell_type": "code",
   "execution_count": 31,
   "metadata": {},
   "outputs": [
    {
     "data": {
      "image/png": "[encoded data removed]",
      "text/plain": [
       "<Figure size 1440x576 with 3 Axes>"
      ]
     },
     "metadata": {},
     "output_type": "display_data"
    }
   ],
   "source": [
    "fig, ax = plt.subplots(1, 3, figsize=(20,8))\n",
    "\n",
    "ax[0].set_title('Ward')\n",
    "ax[1].set_title('Complete')\n",
    "ax[2].set_title('Average')\n",
    "\n",
    "plot_dendrogram(hierarchical_model1, labels=np.array(data_y.Country), leaf_font_size=10, color_threshold=6, leaf_rotation=90, ax=ax[0], above_threshold_color='lightblue')\n",
    "plot_dendrogram(hierarchical_model3, labels=np.array(data_y.Country), leaf_font_size=10, color_threshold=4.3, leaf_rotation=90, ax=ax[1], above_threshold_color='lightblue')\n",
    "plot_dendrogram(hierarchical_model4, labels=np.array(data_y.Country), leaf_font_size=10, color_threshold=5.4, leaf_rotation=90, ax=ax[2], above_threshold_color='lightblue')"
   ]
  },
  {
   "attachments": {},
   "cell_type": "markdown",
   "metadata": {},
   "source": [
    "### DBSCAN"
   ]
  },
  {
   "attachments": {},
   "cell_type": "markdown",
   "metadata": {},
   "source": [
    "DBSCAN was chosen as a modern clustering method. As far as I know, it hasn't benn applied to the subject before in the literature.\n",
    "\n",
    "Searching for optimal epsilon in [2, 3.5] (the interval was chosen to not classify all observations either as a noise or belonging to one cluster). Calculations conducted for minPts = 3 and minPts = 4.\n",
    "\n",
    "The tables below indicate that for minPts = 3 the highest silhouette statistic, the calinski-harabasz score and the lowest number of noise observations are for epsilons equal to 3.1 or 3.5. Epsilon = 3 is not much different from the rest, and it creates more clusters.\n",
    "\n",
    "For minPts = 4 the optimal epsilon would be 3.1 or 3 - based on calinski-harabasz score, the number of clusters and the number of noise observations."
   ]
  },
  {
   "cell_type": "code",
   "execution_count": 32,
   "metadata": {},
   "outputs": [
    {
     "data": {
      "text/html": [
       "<div>\n",
       "<style scoped>\n",
       "    .dataframe tbody tr th:only-of-type {\n",
       "        vertical-align: middle;\n",
       "    }\n",
       "\n",
       "    .dataframe tbody tr th {\n",
       "        vertical-align: top;\n",
       "    }\n",
       "\n",
       "    .dataframe thead th {\n",
       "        text-align: right;\n",
       "    }\n",
       "</style>\n",
       "<table border=\"1\" class=\"dataframe\">\n",
       "  <thead>\n",
       "    <tr style=\"text-align: right;\">\n",
       "      <th></th>\n",
       "      <th>n_clusters</th>\n",
       "      <th>silhouette</th>\n",
       "      <th>calinski_harabasz</th>\n",
       "      <th>noise</th>\n",
       "      <th>epsilon</th>\n",
       "    </tr>\n",
       "  </thead>\n",
       "  <tbody>\n",
       "    <tr>\n",
       "      <th>11</th>\n",
       "      <td>2.0</td>\n",
       "      <td>0.244034</td>\n",
       "      <td>7.156968</td>\n",
       "      <td>3.0</td>\n",
       "      <td>3.1</td>\n",
       "    </tr>\n",
       "    <tr>\n",
       "      <th>12</th>\n",
       "      <td>2.0</td>\n",
       "      <td>0.244034</td>\n",
       "      <td>7.156968</td>\n",
       "      <td>3.0</td>\n",
       "      <td>3.2</td>\n",
       "    </tr>\n",
       "    <tr>\n",
       "      <th>13</th>\n",
       "      <td>2.0</td>\n",
       "      <td>0.244034</td>\n",
       "      <td>7.156968</td>\n",
       "      <td>3.0</td>\n",
       "      <td>3.3</td>\n",
       "    </tr>\n",
       "    <tr>\n",
       "      <th>14</th>\n",
       "      <td>2.0</td>\n",
       "      <td>0.244034</td>\n",
       "      <td>7.156968</td>\n",
       "      <td>3.0</td>\n",
       "      <td>3.4</td>\n",
       "    </tr>\n",
       "    <tr>\n",
       "      <th>15</th>\n",
       "      <td>1.0</td>\n",
       "      <td>0.197082</td>\n",
       "      <td>2.708768</td>\n",
       "      <td>3.0</td>\n",
       "      <td>3.5</td>\n",
       "    </tr>\n",
       "    <tr>\n",
       "      <th>10</th>\n",
       "      <td>3.0</td>\n",
       "      <td>0.152455</td>\n",
       "      <td>6.593264</td>\n",
       "      <td>3.0</td>\n",
       "      <td>3.0</td>\n",
       "    </tr>\n",
       "    <tr>\n",
       "      <th>9</th>\n",
       "      <td>3.0</td>\n",
       "      <td>0.146812</td>\n",
       "      <td>6.155757</td>\n",
       "      <td>4.0</td>\n",
       "      <td>2.9</td>\n",
       "    </tr>\n",
       "    <tr>\n",
       "      <th>6</th>\n",
       "      <td>5.0</td>\n",
       "      <td>0.132783</td>\n",
       "      <td>4.475458</td>\n",
       "      <td>9.0</td>\n",
       "      <td>2.6</td>\n",
       "    </tr>\n",
       "    <tr>\n",
       "      <th>5</th>\n",
       "      <td>5.0</td>\n",
       "      <td>0.128740</td>\n",
       "      <td>4.426153</td>\n",
       "      <td>12.0</td>\n",
       "      <td>2.5</td>\n",
       "    </tr>\n",
       "    <tr>\n",
       "      <th>4</th>\n",
       "      <td>4.0</td>\n",
       "      <td>0.082579</td>\n",
       "      <td>3.248450</td>\n",
       "      <td>15.0</td>\n",
       "      <td>2.4</td>\n",
       "    </tr>\n",
       "    <tr>\n",
       "      <th>7</th>\n",
       "      <td>4.0</td>\n",
       "      <td>0.077168</td>\n",
       "      <td>3.541716</td>\n",
       "      <td>6.0</td>\n",
       "      <td>2.7</td>\n",
       "    </tr>\n",
       "    <tr>\n",
       "      <th>8</th>\n",
       "      <td>4.0</td>\n",
       "      <td>0.077168</td>\n",
       "      <td>3.541716</td>\n",
       "      <td>6.0</td>\n",
       "      <td>2.8</td>\n",
       "    </tr>\n",
       "    <tr>\n",
       "      <th>0</th>\n",
       "      <td>1.0</td>\n",
       "      <td>0.023078</td>\n",
       "      <td>2.717053</td>\n",
       "      <td>26.0</td>\n",
       "      <td>2.0</td>\n",
       "    </tr>\n",
       "    <tr>\n",
       "      <th>1</th>\n",
       "      <td>1.0</td>\n",
       "      <td>0.023078</td>\n",
       "      <td>2.717053</td>\n",
       "      <td>26.0</td>\n",
       "      <td>2.1</td>\n",
       "    </tr>\n",
       "    <tr>\n",
       "      <th>2</th>\n",
       "      <td>1.0</td>\n",
       "      <td>0.023078</td>\n",
       "      <td>2.717053</td>\n",
       "      <td>26.0</td>\n",
       "      <td>2.2</td>\n",
       "    </tr>\n",
       "    <tr>\n",
       "      <th>3</th>\n",
       "      <td>3.0</td>\n",
       "      <td>0.012209</td>\n",
       "      <td>2.503554</td>\n",
       "      <td>19.0</td>\n",
       "      <td>2.3</td>\n",
       "    </tr>\n",
       "  </tbody>\n",
       "</table>\n",
       "</div>"
      ],
      "text/plain": [
       "    n_clusters  silhouette  calinski_harabasz  noise  epsilon\n",
       "11         2.0    0.244034           7.156968    3.0      3.1\n",
       "12         2.0    0.244034           7.156968    3.0      3.2\n",
       "13         2.0    0.244034           7.156968    3.0      3.3\n",
       "14         2.0    0.244034           7.156968    3.0      3.4\n",
       "15         1.0    0.197082           2.708768    3.0      3.5\n",
       "10         3.0    0.152455           6.593264    3.0      3.0\n",
       "9          3.0    0.146812           6.155757    4.0      2.9\n",
       "6          5.0    0.132783           4.475458    9.0      2.6\n",
       "5          5.0    0.128740           4.426153   12.0      2.5\n",
       "4          4.0    0.082579           3.248450   15.0      2.4\n",
       "7          4.0    0.077168           3.541716    6.0      2.7\n",
       "8          4.0    0.077168           3.541716    6.0      2.8\n",
       "0          1.0    0.023078           2.717053   26.0      2.0\n",
       "1          1.0    0.023078           2.717053   26.0      2.1\n",
       "2          1.0    0.023078           2.717053   26.0      2.2\n",
       "3          3.0    0.012209           2.503554   19.0      2.3"
      ]
     },
     "execution_count": 32,
     "metadata": {},
     "output_type": "execute_result"
    }
   ],
   "source": [
    "optimal_eps3 = pd.DataFrame(columns=['n_clusters', 'silhouette', 'calinski_harabasz', 'noise', 'epsilon'])\n",
    "\n",
    "for i, j in enumerate(np.arange(2, 3.6, 0.1)):\n",
    "    dbscan = DBSCAN(eps = j, min_samples = 3).fit(X)\n",
    "    n_clusters = len(np.unique(dbscan.labels_)) - (1 if -1 in dbscan.labels_ else 0)\n",
    "    silhouette = silhouette_score(X, dbscan.labels_)\n",
    "    calinski_harabasz = calinski_harabasz_score(X, dbscan.labels_)\n",
    "    noise = sum(dbscan.labels_ == -1)\n",
    "    optimal_eps3.loc[i] = [n_clusters, silhouette, calinski_harabasz, noise, j]\n",
    "\n",
    "optimal_eps3.sort_values('silhouette', ascending=False)"
   ]
  },
  {
   "cell_type": "code",
   "execution_count": 33,
   "metadata": {},
   "outputs": [
    {
     "data": {
      "text/html": [
       "<div>\n",
       "<style scoped>\n",
       "    .dataframe tbody tr th:only-of-type {\n",
       "        vertical-align: middle;\n",
       "    }\n",
       "\n",
       "    .dataframe tbody tr th {\n",
       "        vertical-align: top;\n",
       "    }\n",
       "\n",
       "    .dataframe thead th {\n",
       "        text-align: right;\n",
       "    }\n",
       "</style>\n",
       "<table border=\"1\" class=\"dataframe\">\n",
       "  <thead>\n",
       "    <tr style=\"text-align: right;\">\n",
       "      <th></th>\n",
       "      <th>n_clusters</th>\n",
       "      <th>silhouette</th>\n",
       "      <th>calinski_harabasz</th>\n",
       "      <th>noise</th>\n",
       "      <th>epsilon</th>\n",
       "    </tr>\n",
       "  </thead>\n",
       "  <tbody>\n",
       "    <tr>\n",
       "      <th>12</th>\n",
       "      <td>2.0</td>\n",
       "      <td>0.244034</td>\n",
       "      <td>7.156968</td>\n",
       "      <td>3.0</td>\n",
       "      <td>3.2</td>\n",
       "    </tr>\n",
       "    <tr>\n",
       "      <th>13</th>\n",
       "      <td>2.0</td>\n",
       "      <td>0.244034</td>\n",
       "      <td>7.156968</td>\n",
       "      <td>3.0</td>\n",
       "      <td>3.3</td>\n",
       "    </tr>\n",
       "    <tr>\n",
       "      <th>14</th>\n",
       "      <td>2.0</td>\n",
       "      <td>0.244034</td>\n",
       "      <td>7.156968</td>\n",
       "      <td>3.0</td>\n",
       "      <td>3.4</td>\n",
       "    </tr>\n",
       "    <tr>\n",
       "      <th>11</th>\n",
       "      <td>3.0</td>\n",
       "      <td>0.215375</td>\n",
       "      <td>8.615846</td>\n",
       "      <td>3.0</td>\n",
       "      <td>3.1</td>\n",
       "    </tr>\n",
       "    <tr>\n",
       "      <th>15</th>\n",
       "      <td>2.0</td>\n",
       "      <td>0.211376</td>\n",
       "      <td>5.604939</td>\n",
       "      <td>3.0</td>\n",
       "      <td>3.5</td>\n",
       "    </tr>\n",
       "    <tr>\n",
       "      <th>10</th>\n",
       "      <td>4.0</td>\n",
       "      <td>0.188857</td>\n",
       "      <td>7.865393</td>\n",
       "      <td>5.0</td>\n",
       "      <td>3.0</td>\n",
       "    </tr>\n",
       "    <tr>\n",
       "      <th>9</th>\n",
       "      <td>4.0</td>\n",
       "      <td>0.172008</td>\n",
       "      <td>6.919496</td>\n",
       "      <td>6.0</td>\n",
       "      <td>2.9</td>\n",
       "    </tr>\n",
       "    <tr>\n",
       "      <th>7</th>\n",
       "      <td>3.0</td>\n",
       "      <td>0.081970</td>\n",
       "      <td>4.083424</td>\n",
       "      <td>13.0</td>\n",
       "      <td>2.7</td>\n",
       "    </tr>\n",
       "    <tr>\n",
       "      <th>8</th>\n",
       "      <td>3.0</td>\n",
       "      <td>0.081970</td>\n",
       "      <td>4.083424</td>\n",
       "      <td>13.0</td>\n",
       "      <td>2.8</td>\n",
       "    </tr>\n",
       "    <tr>\n",
       "      <th>6</th>\n",
       "      <td>2.0</td>\n",
       "      <td>0.028085</td>\n",
       "      <td>3.583597</td>\n",
       "      <td>20.0</td>\n",
       "      <td>2.6</td>\n",
       "    </tr>\n",
       "    <tr>\n",
       "      <th>0</th>\n",
       "      <td>1.0</td>\n",
       "      <td>0.023078</td>\n",
       "      <td>2.717053</td>\n",
       "      <td>26.0</td>\n",
       "      <td>2.0</td>\n",
       "    </tr>\n",
       "    <tr>\n",
       "      <th>1</th>\n",
       "      <td>1.0</td>\n",
       "      <td>0.023078</td>\n",
       "      <td>2.717053</td>\n",
       "      <td>26.0</td>\n",
       "      <td>2.1</td>\n",
       "    </tr>\n",
       "    <tr>\n",
       "      <th>2</th>\n",
       "      <td>1.0</td>\n",
       "      <td>0.023078</td>\n",
       "      <td>2.717053</td>\n",
       "      <td>26.0</td>\n",
       "      <td>2.2</td>\n",
       "    </tr>\n",
       "    <tr>\n",
       "      <th>4</th>\n",
       "      <td>2.0</td>\n",
       "      <td>0.004902</td>\n",
       "      <td>3.236835</td>\n",
       "      <td>21.0</td>\n",
       "      <td>2.4</td>\n",
       "    </tr>\n",
       "    <tr>\n",
       "      <th>5</th>\n",
       "      <td>2.0</td>\n",
       "      <td>0.004902</td>\n",
       "      <td>3.236835</td>\n",
       "      <td>21.0</td>\n",
       "      <td>2.5</td>\n",
       "    </tr>\n",
       "    <tr>\n",
       "      <th>3</th>\n",
       "      <td>2.0</td>\n",
       "      <td>-0.039044</td>\n",
       "      <td>2.403312</td>\n",
       "      <td>22.0</td>\n",
       "      <td>2.3</td>\n",
       "    </tr>\n",
       "  </tbody>\n",
       "</table>\n",
       "</div>"
      ],
      "text/plain": [
       "    n_clusters  silhouette  calinski_harabasz  noise  epsilon\n",
       "12         2.0    0.244034           7.156968    3.0      3.2\n",
       "13         2.0    0.244034           7.156968    3.0      3.3\n",
       "14         2.0    0.244034           7.156968    3.0      3.4\n",
       "11         3.0    0.215375           8.615846    3.0      3.1\n",
       "15         2.0    0.211376           5.604939    3.0      3.5\n",
       "10         4.0    0.188857           7.865393    5.0      3.0\n",
       "9          4.0    0.172008           6.919496    6.0      2.9\n",
       "7          3.0    0.081970           4.083424   13.0      2.7\n",
       "8          3.0    0.081970           4.083424   13.0      2.8\n",
       "6          2.0    0.028085           3.583597   20.0      2.6\n",
       "0          1.0    0.023078           2.717053   26.0      2.0\n",
       "1          1.0    0.023078           2.717053   26.0      2.1\n",
       "2          1.0    0.023078           2.717053   26.0      2.2\n",
       "4          2.0    0.004902           3.236835   21.0      2.4\n",
       "5          2.0    0.004902           3.236835   21.0      2.5\n",
       "3          2.0   -0.039044           2.403312   22.0      2.3"
      ]
     },
     "execution_count": 33,
     "metadata": {},
     "output_type": "execute_result"
    }
   ],
   "source": [
    "optimal_eps4 = pd.DataFrame(columns=['n_clusters', 'silhouette', 'calinski_harabasz', 'noise', 'epsilon'])\n",
    "\n",
    "for i, j in enumerate(np.arange(2, 3.6, 0.1)):\n",
    "    dbscan = DBSCAN(eps = j, min_samples = 4).fit(X)\n",
    "    n_clusters = len(np.unique(dbscan.labels_)) - (1 if -1 in dbscan.labels_ else 0)\n",
    "    silhouette = silhouette_score(X, dbscan.labels_)\n",
    "    calinski_harabasz = calinski_harabasz_score(X, dbscan.labels_)\n",
    "    noise = sum(dbscan.labels_ == -1)\n",
    "    optimal_eps4.loc[i] = [n_clusters, silhouette, calinski_harabasz, noise, j]\n",
    "\n",
    "optimal_eps4.sort_values('silhouette', ascending=False)"
   ]
  },
  {
   "attachments": {},
   "cell_type": "markdown",
   "metadata": {},
   "source": [
    "Fitting DBSCAN for the chosen parameters."
   ]
  },
  {
   "cell_type": "code",
   "execution_count": 34,
   "metadata": {},
   "outputs": [],
   "source": [
    "dbscan1 = DBSCAN(eps = 3.1, min_samples = 3).fit(X)\n",
    "dbscan2 = DBSCAN(eps = 3, min_samples = 3).fit(X)\n",
    "dbscan3 = DBSCAN(eps = 3.1, min_samples = 4).fit(X)\n",
    "dbscan4 = DBSCAN(eps = 3, min_samples = 4).fit(X)\n",
    "cols = np.array([\"red\", \"blue\", \"orange\", \"purple\", \"green\", \"cyan\", \"black\", \"pink\", \"brown\", \"gray\", \"yellow\"])"
   ]
  },
  {
   "attachments": {},
   "cell_type": "markdown",
   "metadata": {},
   "source": [
    "Plotting the first two principal components with cluster for the chosen scenarios."
   ]
  },
  {
   "cell_type": "code",
   "execution_count": 35,
   "metadata": {},
   "outputs": [
    {
     "data": {
      "image/png": "[encoded data removed]",
      "text/plain": [
       "<Figure size 1080x720 with 4 Axes>"
      ]
     },
     "metadata": {},
     "output_type": "display_data"
    }
   ],
   "source": [
    "plt.style.use('fivethirtyeight')\n",
    "\n",
    "fig, ax = plt.subplots(2, 2, sharey=True, sharex=True, figsize=(15,10))\n",
    "\n",
    "fig.supxlabel(\"PC1\")\n",
    "fig.supylabel(\"PC2\")\n",
    "\n",
    "ax[0,0].set_title(\"Eps=3.1\")\n",
    "ax[0,1].set_title(\"Eps=3\")\n",
    "\n",
    "ax[0,0].scatter(X[:, 0], X[:, 1], s=20, color=cols[dbscan1.labels_ + 1])\n",
    "ax[0,1].scatter(X[:, 0], X[:, 1], s=20, color = cols[dbscan2.labels_ + 1])\n",
    "ax[1,0].scatter(X[:, 0], X[:, 1], s=20, color = cols[dbscan3.labels_ + 1])\n",
    "ax[1,1].scatter(X[:, 0], X[:, 1], s=20, color = cols[dbscan4.labels_ + 1])\n",
    "\n",
    "fig.tight_layout()\n",
    "plt.show()"
   ]
  },
  {
   "attachments": {},
   "cell_type": "markdown",
   "metadata": {},
   "source": [
    "3D plots (replace the argument 'color' to have different dbscan labels)."
   ]
  },
  {
   "cell_type": "code",
   "execution_count": 36,
   "metadata": {},
   "outputs": [
    {
     "data": {
      "application/vnd.plotly.v1+json": {
       "config": {
        "plotlyServerURL": "https://plot.ly"
       },
       "data": [
        {
         "marker": {
          "color": [
           0,
           0,
           1,
           0,
           1,
           1,
           0,
           2,
           1,
           1,
           1,
           2,
           0,
           1,
           1,
           -1,
           -1,
           1,
           1,
           0,
           1,
           -1,
           0,
           2,
           1,
           1,
           1,
           2,
           1,
           1
          ],
          "colorscale": [
           [
            0,
            "#440154"
           ],
           [
            0.1111111111111111,
            "#482878"
           ],
           [
            0.2222222222222222,
            "#3e4989"
           ],
           [
            0.3333333333333333,
            "#31688e"
           ],
           [
            0.4444444444444444,
            "#26828e"
           ],
           [
            0.5555555555555556,
            "#1f9e89"
           ],
           [
            0.6666666666666666,
            "#35b779"
           ],
           [
            0.7777777777777778,
            "#6ece58"
           ],
           [
            0.8888888888888888,
            "#b5de2b"
           ],
           [
            1,
            "#fde725"
           ]
          ],
          "opacity": 0.3,
          "size": 10
         },
         "mode": "markers",
         "type": "scatter3d",
         "x": [
          1.4327882919156325,
          2.3951450266504044,
          -4.148285562822593,
          1.8256076215101857,
          -1.9314115300859962,
          -2.2428393798155444,
          0.6031505597309141,
          6.380826542141098,
          -1.8841846028747904,
          -2.051750561109305,
          -0.9662166305508172,
          4.6644736833234015,
          1.5294759445090018,
          -2.3707510257667956,
          -2.7046421471730473,
          -0.7899838070585321,
          4.346506987434243,
          -0.028595260827067415,
          -2.301708549866838,
          0.5272887126466481,
          -2.366752874372214,
          -1.7197519794049174,
          2.4639255591069014,
          4.574728139637034,
          -1.7268254754064518,
          -1.306307057009519,
          -4.194760184310357,
          4.612945213934959,
          -0.3461247325227605,
          -2.2759709215628714
         ],
         "y": [
          2.229224294820681,
          2.0407968167432666,
          -0.3079803460142575,
          -0.852692740578132,
          1.3490655880773854,
          -0.5779301202622277,
          0.8959518193590511,
          -0.5886905045117969,
          -2.0690856593853266,
          2.9287807180937437,
          2.672911805826873,
          0.2813412318603697,
          3.8530339741508577,
          -0.6728809123567181,
          -0.8530730724191405,
          -1.7131044426385247,
          -3.246818691850777,
          4.462660924859308,
          -1.0564817421767054,
          -0.7915058829078611,
          -1.2188879914929396,
          -1.7457930990707788,
          0.03506761055407356,
          -2.244652941891636,
          -0.5975229929753183,
          1.9203711170721303,
          -1.5426702579912421,
          -0.6347808998883148,
          -0.538802743905369,
          -1.4158508591006718
         ],
         "z": [
          -0.7029628019408969,
          -0.4581912700021532,
          -0.19711652162822071,
          1.713095087761497,
          1.4231867572422066,
          -0.5125147582354556,
          -0.2714619474385737,
          0.7119197760438206,
          -1.4333329432116095,
          -0.29748584346455575,
          0.743216128199483,
          0.13862406929982815,
          -0.14670740996862966,
          -1.4262510661811423,
          0.28689934360295044,
          4.792020807983676,
          -0.007117124265342014,
          0.7557669999165848,
          0.4086641714713716,
          -0.7903475623080979,
          -0.24722155833671028,
          2.6396099952443537,
          -0.0024140302946348896,
          -1.8946873283399979,
          -1.5715377487270907,
          -0.564390592511319,
          0.08145534991065972,
          0.09360898378362115,
          -1.755459359454124,
          -1.5088676041514975
         ]
        }
       ],
       "layout": {
        "height": 1000,
        "margin": {
         "l": 0,
         "r": 0
        },
        "scene": {
         "xaxis": {
          "title": {
           "text": "PC1"
          }
         },
         "yaxis": {
          "title": {
           "text": "PC2"
          }
         },
         "zaxis": {
          "title": {
           "text": "PC3"
          }
         }
        },
        "template": {
         "data": {
          "bar": [
           {
            "error_x": {
             "color": "#2a3f5f"
            },
            "error_y": {
             "color": "#2a3f5f"
            },
            "marker": {
             "line": {
              "color": "#E5ECF6",
              "width": 0.5
             },
             "pattern": {
              "fillmode": "overlay",
              "size": 10,
              "solidity": 0.2
             }
            },
            "type": "bar"
           }
          ],
          "barpolar": [
           {
            "marker": {
             "line": {
              "color": "#E5ECF6",
              "width": 0.5
             },
             "pattern": {
              "fillmode": "overlay",
              "size": 10,
              "solidity": 0.2
             }
            },
            "type": "barpolar"
           }
          ],
          "carpet": [
           {
            "aaxis": {
             "endlinecolor": "#2a3f5f",
             "gridcolor": "white",
             "linecolor": "white",
             "minorgridcolor": "white",
             "startlinecolor": "#2a3f5f"
            },
            "baxis": {
             "endlinecolor": "#2a3f5f",
             "gridcolor": "white",
             "linecolor": "white",
             "minorgridcolor": "white",
             "startlinecolor": "#2a3f5f"
            },
            "type": "carpet"
           }
          ],
          "choropleth": [
           {
            "colorbar": {
             "outlinewidth": 0,
             "ticks": ""
            },
            "type": "choropleth"
           }
          ],
          "contour": [
           {
            "colorbar": {
             "outlinewidth": 0,
             "ticks": ""
            },
            "colorscale": [
             [
              0,
              "#0d0887"
             ],
             [
              0.1111111111111111,
              "#46039f"
             ],
             [
              0.2222222222222222,
              "#7201a8"
             ],
             [
              0.3333333333333333,
              "#9c179e"
             ],
             [
              0.4444444444444444,
              "#bd3786"
             ],
             [
              0.5555555555555556,
              "#d8576b"
             ],
             [
              0.6666666666666666,
              "#ed7953"
             ],
             [
              0.7777777777777778,
              "#fb9f3a"
             ],
             [
              0.8888888888888888,
              "#fdca26"
             ],
             [
              1,
              "#f0f921"
             ]
            ],
            "type": "contour"
           }
          ],
          "contourcarpet": [
           {
            "colorbar": {
             "outlinewidth": 0,
             "ticks": ""
            },
            "type": "contourcarpet"
           }
          ],
          "heatmap": [
           {
            "colorbar": {
             "outlinewidth": 0,
             "ticks": ""
            },
            "colorscale": [
             [
              0,
              "#0d0887"
             ],
             [
              0.1111111111111111,
              "#46039f"
             ],
             [
              0.2222222222222222,
              "#7201a8"
             ],
             [
              0.3333333333333333,
              "#9c179e"
             ],
             [
              0.4444444444444444,
              "#bd3786"
             ],
             [
              0.5555555555555556,
              "#d8576b"
             ],
             [
              0.6666666666666666,
              "#ed7953"
             ],
             [
              0.7777777777777778,
              "#fb9f3a"
             ],
             [
              0.8888888888888888,
              "#fdca26"
             ],
             [
              1,
              "#f0f921"
             ]
            ],
            "type": "heatmap"
           }
          ],
          "heatmapgl": [
           {
            "colorbar": {
             "outlinewidth": 0,
             "ticks": ""
            },
            "colorscale": [
             [
              0,
              "#0d0887"
             ],
             [
              0.1111111111111111,
              "#46039f"
             ],
             [
              0.2222222222222222,
              "#7201a8"
             ],
             [
              0.3333333333333333,
              "#9c179e"
             ],
             [
              0.4444444444444444,
              "#bd3786"
             ],
             [
              0.5555555555555556,
              "#d8576b"
             ],
             [
              0.6666666666666666,
              "#ed7953"
             ],
             [
              0.7777777777777778,
              "#fb9f3a"
             ],
             [
              0.8888888888888888,
              "#fdca26"
             ],
             [
              1,
              "#f0f921"
             ]
            ],
            "type": "heatmapgl"
           }
          ],
          "histogram": [
           {
            "marker": {
             "pattern": {
              "fillmode": "overlay",
              "size": 10,
              "solidity": 0.2
             }
            },
            "type": "histogram"
           }
          ],
          "histogram2d": [
           {
            "colorbar": {
             "outlinewidth": 0,
             "ticks": ""
            },
            "colorscale": [
             [
              0,
              "#0d0887"
             ],
             [
              0.1111111111111111,
              "#46039f"
             ],
             [
              0.2222222222222222,
              "#7201a8"
             ],
             [
              0.3333333333333333,
              "#9c179e"
             ],
             [
              0.4444444444444444,
              "#bd3786"
             ],
             [
              0.5555555555555556,
              "#d8576b"
             ],
             [
              0.6666666666666666,
              "#ed7953"
             ],
             [
              0.7777777777777778,
              "#fb9f3a"
             ],
             [
              0.8888888888888888,
              "#fdca26"
             ],
             [
              1,
              "#f0f921"
             ]
            ],
            "type": "histogram2d"
           }
          ],
          "histogram2dcontour": [
           {
            "colorbar": {
             "outlinewidth": 0,
             "ticks": ""
            },
            "colorscale": [
             [
              0,
              "#0d0887"
             ],
             [
              0.1111111111111111,
              "#46039f"
             ],
             [
              0.2222222222222222,
              "#7201a8"
             ],
             [
              0.3333333333333333,
              "#9c179e"
             ],
             [
              0.4444444444444444,
              "#bd3786"
             ],
             [
              0.5555555555555556,
              "#d8576b"
             ],
             [
              0.6666666666666666,
              "#ed7953"
             ],
             [
              0.7777777777777778,
              "#fb9f3a"
             ],
             [
              0.8888888888888888,
              "#fdca26"
             ],
             [
              1,
              "#f0f921"
             ]
            ],
            "type": "histogram2dcontour"
           }
          ],
          "mesh3d": [
           {
            "colorbar": {
             "outlinewidth": 0,
             "ticks": ""
            },
            "type": "mesh3d"
           }
          ],
          "parcoords": [
           {
            "line": {
             "colorbar": {
              "outlinewidth": 0,
              "ticks": ""
             }
            },
            "type": "parcoords"
           }
          ],
          "pie": [
           {
            "automargin": true,
            "type": "pie"
           }
          ],
          "scatter": [
           {
            "marker": {
             "colorbar": {
              "outlinewidth": 0,
              "ticks": ""
             }
            },
            "type": "scatter"
           }
          ],
          "scatter3d": [
           {
            "line": {
             "colorbar": {
              "outlinewidth": 0,
              "ticks": ""
             }
            },
            "marker": {
             "colorbar": {
              "outlinewidth": 0,
              "ticks": ""
             }
            },
            "type": "scatter3d"
           }
          ],
          "scattercarpet": [
           {
            "marker": {
             "colorbar": {
              "outlinewidth": 0,
              "ticks": ""
             }
            },
            "type": "scattercarpet"
           }
          ],
          "scattergeo": [
           {
            "marker": {
             "colorbar": {
              "outlinewidth": 0,
              "ticks": ""
             }
            },
            "type": "scattergeo"
           }
          ],
          "scattergl": [
           {
            "marker": {
             "colorbar": {
              "outlinewidth": 0,
              "ticks": ""
             }
            },
            "type": "scattergl"
           }
          ],
          "scattermapbox": [
           {
            "marker": {
             "colorbar": {
              "outlinewidth": 0,
              "ticks": ""
             }
            },
            "type": "scattermapbox"
           }
          ],
          "scatterpolar": [
           {
            "marker": {
             "colorbar": {
              "outlinewidth": 0,
              "ticks": ""
             }
            },
            "type": "scatterpolar"
           }
          ],
          "scatterpolargl": [
           {
            "marker": {
             "colorbar": {
              "outlinewidth": 0,
              "ticks": ""
             }
            },
            "type": "scatterpolargl"
           }
          ],
          "scatterternary": [
           {
            "marker": {
             "colorbar": {
              "outlinewidth": 0,
              "ticks": ""
             }
            },
            "type": "scatterternary"
           }
          ],
          "surface": [
           {
            "colorbar": {
             "outlinewidth": 0,
             "ticks": ""
            },
            "colorscale": [
             [
              0,
              "#0d0887"
             ],
             [
              0.1111111111111111,
              "#46039f"
             ],
             [
              0.2222222222222222,
              "#7201a8"
             ],
             [
              0.3333333333333333,
              "#9c179e"
             ],
             [
              0.4444444444444444,
              "#bd3786"
             ],
             [
              0.5555555555555556,
              "#d8576b"
             ],
             [
              0.6666666666666666,
              "#ed7953"
             ],
             [
              0.7777777777777778,
              "#fb9f3a"
             ],
             [
              0.8888888888888888,
              "#fdca26"
             ],
             [
              1,
              "#f0f921"
             ]
            ],
            "type": "surface"
           }
          ],
          "table": [
           {
            "cells": {
             "fill": {
              "color": "#EBF0F8"
             },
             "line": {
              "color": "white"
             }
            },
            "header": {
             "fill": {
              "color": "#C8D4E3"
             },
             "line": {
              "color": "white"
             }
            },
            "type": "table"
           }
          ]
         },
         "layout": {
          "annotationdefaults": {
           "arrowcolor": "#2a3f5f",
           "arrowhead": 0,
           "arrowwidth": 1
          },
          "autotypenumbers": "strict",
          "coloraxis": {
           "colorbar": {
            "outlinewidth": 0,
            "ticks": ""
           }
          },
          "colorscale": {
           "diverging": [
            [
             0,
             "#8e0152"
            ],
            [
             0.1,
             "#c51b7d"
            ],
            [
             0.2,
             "#de77ae"
            ],
            [
             0.3,
             "#f1b6da"
            ],
            [
             0.4,
             "#fde0ef"
            ],
            [
             0.5,
             "#f7f7f7"
            ],
            [
             0.6,
             "#e6f5d0"
            ],
            [
             0.7,
             "#b8e186"
            ],
            [
             0.8,
             "#7fbc41"
            ],
            [
             0.9,
             "#4d9221"
            ],
            [
             1,
             "#276419"
            ]
           ],
           "sequential": [
            [
             0,
             "#0d0887"
            ],
            [
             0.1111111111111111,
             "#46039f"
            ],
            [
             0.2222222222222222,
             "#7201a8"
            ],
            [
             0.3333333333333333,
             "#9c179e"
            ],
            [
             0.4444444444444444,
             "#bd3786"
            ],
            [
             0.5555555555555556,
             "#d8576b"
            ],
            [
             0.6666666666666666,
             "#ed7953"
            ],
            [
             0.7777777777777778,
             "#fb9f3a"
            ],
            [
             0.8888888888888888,
             "#fdca26"
            ],
            [
             1,
             "#f0f921"
            ]
           ],
           "sequentialminus": [
            [
             0,
             "#0d0887"
            ],
            [
             0.1111111111111111,
             "#46039f"
            ],
            [
             0.2222222222222222,
             "#7201a8"
            ],
            [
             0.3333333333333333,
             "#9c179e"
            ],
            [
             0.4444444444444444,
             "#bd3786"
            ],
            [
             0.5555555555555556,
             "#d8576b"
            ],
            [
             0.6666666666666666,
             "#ed7953"
            ],
            [
             0.7777777777777778,
             "#fb9f3a"
            ],
            [
             0.8888888888888888,
             "#fdca26"
            ],
            [
             1,
             "#f0f921"
            ]
           ]
          },
          "colorway": [
           "#636efa",
           "#EF553B",
           "#00cc96",
           "#ab63fa",
           "#FFA15A",
           "#19d3f3",
           "#FF6692",
           "#B6E880",
           "#FF97FF",
           "#FECB52"
          ],
          "font": {
           "color": "#2a3f5f"
          },
          "geo": {
           "bgcolor": "white",
           "lakecolor": "white",
           "landcolor": "#E5ECF6",
           "showlakes": true,
           "showland": true,
           "subunitcolor": "white"
          },
          "hoverlabel": {
           "align": "left"
          },
          "hovermode": "closest",
          "mapbox": {
           "style": "light"
          },
          "paper_bgcolor": "white",
          "plot_bgcolor": "#E5ECF6",
          "polar": {
           "angularaxis": {
            "gridcolor": "white",
            "linecolor": "white",
            "ticks": ""
           },
           "bgcolor": "#E5ECF6",
           "radialaxis": {
            "gridcolor": "white",
            "linecolor": "white",
            "ticks": ""
           }
          },
          "scene": {
           "xaxis": {
            "backgroundcolor": "#E5ECF6",
            "gridcolor": "white",
            "gridwidth": 2,
            "linecolor": "white",
            "showbackground": true,
            "ticks": "",
            "zerolinecolor": "white"
           },
           "yaxis": {
            "backgroundcolor": "#E5ECF6",
            "gridcolor": "white",
            "gridwidth": 2,
            "linecolor": "white",
            "showbackground": true,
            "ticks": "",
            "zerolinecolor": "white"
           },
           "zaxis": {
            "backgroundcolor": "#E5ECF6",
            "gridcolor": "white",
            "gridwidth": 2,
            "linecolor": "white",
            "showbackground": true,
            "ticks": "",
            "zerolinecolor": "white"
           }
          },
          "shapedefaults": {
           "line": {
            "color": "#2a3f5f"
           }
          },
          "ternary": {
           "aaxis": {
            "gridcolor": "white",
            "linecolor": "white",
            "ticks": ""
           },
           "baxis": {
            "gridcolor": "white",
            "linecolor": "white",
            "ticks": ""
           },
           "bgcolor": "#E5ECF6",
           "caxis": {
            "gridcolor": "white",
            "linecolor": "white",
            "ticks": ""
           }
          },
          "title": {
           "x": 0.05
          },
          "xaxis": {
           "automargin": true,
           "gridcolor": "white",
           "linecolor": "white",
           "ticks": "",
           "title": {
            "standoff": 15
           },
           "zerolinecolor": "white",
           "zerolinewidth": 2
          },
          "yaxis": {
           "automargin": true,
           "gridcolor": "white",
           "linecolor": "white",
           "ticks": "",
           "title": {
            "standoff": 15
           },
           "zerolinecolor": "white",
           "zerolinewidth": 2
          }
         }
        },
        "width": 1000
       }
      }
     },
     "metadata": {},
     "output_type": "display_data"
    }
   ],
   "source": [
    "Scene = dict(xaxis = dict(title  = 'PC1'),yaxis = dict(title  = 'PC2'),zaxis = dict(title  = 'PC3'))\n",
    "trace = go.Scatter3d(x=X[:,0], y=X[:,1], z=X[:,2], mode='markers',marker=dict(colorscale='Viridis', opacity=0.3, size = 10, color=dbscan3.labels_))\n",
    "layout = go.Layout(margin=dict(l=0,r=0),scene = Scene, height = 1000,width = 1000)\n",
    "dt = [trace]\n",
    "fig = go.Figure(data = dt, layout = layout)\n",
    "fig.show()"
   ]
  },
  {
   "cell_type": "code",
   "execution_count": 37,
   "metadata": {},
   "outputs": [
    {
     "data": {
      "application/vnd.plotly.v1+json": {
       "config": {
        "plotlyServerURL": "https://plot.ly"
       },
       "data": [
        {
         "marker": {
          "color": [
           0,
           0,
           1,
           -1,
           2,
           1,
           0,
           3,
           1,
           2,
           2,
           3,
           0,
           1,
           1,
           -1,
           -1,
           -1,
           1,
           0,
           1,
           -1,
           0,
           3,
           1,
           2,
           1,
           3,
           1,
           1
          ],
          "colorscale": [
           [
            0,
            "#440154"
           ],
           [
            0.1111111111111111,
            "#482878"
           ],
           [
            0.2222222222222222,
            "#3e4989"
           ],
           [
            0.3333333333333333,
            "#31688e"
           ],
           [
            0.4444444444444444,
            "#26828e"
           ],
           [
            0.5555555555555556,
            "#1f9e89"
           ],
           [
            0.6666666666666666,
            "#35b779"
           ],
           [
            0.7777777777777778,
            "#6ece58"
           ],
           [
            0.8888888888888888,
            "#b5de2b"
           ],
           [
            1,
            "#fde725"
           ]
          ],
          "opacity": 0.3,
          "size": 10
         },
         "mode": "markers",
         "type": "scatter3d",
         "x": [
          1.4327882919156325,
          2.3951450266504044,
          -4.148285562822593,
          1.8256076215101857,
          -1.9314115300859962,
          -2.2428393798155444,
          0.6031505597309141,
          6.380826542141098,
          -1.8841846028747904,
          -2.051750561109305,
          -0.9662166305508172,
          4.6644736833234015,
          1.5294759445090018,
          -2.3707510257667956,
          -2.7046421471730473,
          -0.7899838070585321,
          4.346506987434243,
          -0.028595260827067415,
          -2.301708549866838,
          0.5272887126466481,
          -2.366752874372214,
          -1.7197519794049174,
          2.4639255591069014,
          4.574728139637034,
          -1.7268254754064518,
          -1.306307057009519,
          -4.194760184310357,
          4.612945213934959,
          -0.3461247325227605,
          -2.2759709215628714
         ],
         "y": [
          2.229224294820681,
          2.0407968167432666,
          -0.3079803460142575,
          -0.852692740578132,
          1.3490655880773854,
          -0.5779301202622277,
          0.8959518193590511,
          -0.5886905045117969,
          -2.0690856593853266,
          2.9287807180937437,
          2.672911805826873,
          0.2813412318603697,
          3.8530339741508577,
          -0.6728809123567181,
          -0.8530730724191405,
          -1.7131044426385247,
          -3.246818691850777,
          4.462660924859308,
          -1.0564817421767054,
          -0.7915058829078611,
          -1.2188879914929396,
          -1.7457930990707788,
          0.03506761055407356,
          -2.244652941891636,
          -0.5975229929753183,
          1.9203711170721303,
          -1.5426702579912421,
          -0.6347808998883148,
          -0.538802743905369,
          -1.4158508591006718
         ],
         "z": [
          -0.7029628019408969,
          -0.4581912700021532,
          -0.19711652162822071,
          1.713095087761497,
          1.4231867572422066,
          -0.5125147582354556,
          -0.2714619474385737,
          0.7119197760438206,
          -1.4333329432116095,
          -0.29748584346455575,
          0.743216128199483,
          0.13862406929982815,
          -0.14670740996862966,
          -1.4262510661811423,
          0.28689934360295044,
          4.792020807983676,
          -0.007117124265342014,
          0.7557669999165848,
          0.4086641714713716,
          -0.7903475623080979,
          -0.24722155833671028,
          2.6396099952443537,
          -0.0024140302946348896,
          -1.8946873283399979,
          -1.5715377487270907,
          -0.564390592511319,
          0.08145534991065972,
          0.09360898378362115,
          -1.755459359454124,
          -1.5088676041514975
         ]
        }
       ],
       "layout": {
        "height": 1000,
        "margin": {
         "l": 0,
         "r": 0
        },
        "scene": {
         "xaxis": {
          "title": {
           "text": "PC1"
          }
         },
         "yaxis": {
          "title": {
           "text": "PC2"
          }
         },
         "zaxis": {
          "title": {
           "text": "PC3"
          }
         }
        },
        "template": {
         "data": {
          "bar": [
           {
            "error_x": {
             "color": "#2a3f5f"
            },
            "error_y": {
             "color": "#2a3f5f"
            },
            "marker": {
             "line": {
              "color": "#E5ECF6",
              "width": 0.5
             },
             "pattern": {
              "fillmode": "overlay",
              "size": 10,
              "solidity": 0.2
             }
            },
            "type": "bar"
           }
          ],
          "barpolar": [
           {
            "marker": {
             "line": {
              "color": "#E5ECF6",
              "width": 0.5
             },
             "pattern": {
              "fillmode": "overlay",
              "size": 10,
              "solidity": 0.2
             }
            },
            "type": "barpolar"
           }
          ],
          "carpet": [
           {
            "aaxis": {
             "endlinecolor": "#2a3f5f",
             "gridcolor": "white",
             "linecolor": "white",
             "minorgridcolor": "white",
             "startlinecolor": "#2a3f5f"
            },
            "baxis": {
             "endlinecolor": "#2a3f5f",
             "gridcolor": "white",
             "linecolor": "white",
             "minorgridcolor": "white",
             "startlinecolor": "#2a3f5f"
            },
            "type": "carpet"
           }
          ],
          "choropleth": [
           {
            "colorbar": {
             "outlinewidth": 0,
             "ticks": ""
            },
            "type": "choropleth"
           }
          ],
          "contour": [
           {
            "colorbar": {
             "outlinewidth": 0,
             "ticks": ""
            },
            "colorscale": [
             [
              0,
              "#0d0887"
             ],
             [
              0.1111111111111111,
              "#46039f"
             ],
             [
              0.2222222222222222,
              "#7201a8"
             ],
             [
              0.3333333333333333,
              "#9c179e"
             ],
             [
              0.4444444444444444,
              "#bd3786"
             ],
             [
              0.5555555555555556,
              "#d8576b"
             ],
             [
              0.6666666666666666,
              "#ed7953"
             ],
             [
              0.7777777777777778,
              "#fb9f3a"
             ],
             [
              0.8888888888888888,
              "#fdca26"
             ],
             [
              1,
              "#f0f921"
             ]
            ],
            "type": "contour"
           }
          ],
          "contourcarpet": [
           {
            "colorbar": {
             "outlinewidth": 0,
             "ticks": ""
            },
            "type": "contourcarpet"
           }
          ],
          "heatmap": [
           {
            "colorbar": {
             "outlinewidth": 0,
             "ticks": ""
            },
            "colorscale": [
             [
              0,
              "#0d0887"
             ],
             [
              0.1111111111111111,
              "#46039f"
             ],
             [
              0.2222222222222222,
              "#7201a8"
             ],
             [
              0.3333333333333333,
              "#9c179e"
             ],
             [
              0.4444444444444444,
              "#bd3786"
             ],
             [
              0.5555555555555556,
              "#d8576b"
             ],
             [
              0.6666666666666666,
              "#ed7953"
             ],
             [
              0.7777777777777778,
              "#fb9f3a"
             ],
             [
              0.8888888888888888,
              "#fdca26"
             ],
             [
              1,
              "#f0f921"
             ]
            ],
            "type": "heatmap"
           }
          ],
          "heatmapgl": [
           {
            "colorbar": {
             "outlinewidth": 0,
             "ticks": ""
            },
            "colorscale": [
             [
              0,
              "#0d0887"
             ],
             [
              0.1111111111111111,
              "#46039f"
             ],
             [
              0.2222222222222222,
              "#7201a8"
             ],
             [
              0.3333333333333333,
              "#9c179e"
             ],
             [
              0.4444444444444444,
              "#bd3786"
             ],
             [
              0.5555555555555556,
              "#d8576b"
             ],
             [
              0.6666666666666666,
              "#ed7953"
             ],
             [
              0.7777777777777778,
              "#fb9f3a"
             ],
             [
              0.8888888888888888,
              "#fdca26"
             ],
             [
              1,
              "#f0f921"
             ]
            ],
            "type": "heatmapgl"
           }
          ],
          "histogram": [
           {
            "marker": {
             "pattern": {
              "fillmode": "overlay",
              "size": 10,
              "solidity": 0.2
             }
            },
            "type": "histogram"
           }
          ],
          "histogram2d": [
           {
            "colorbar": {
             "outlinewidth": 0,
             "ticks": ""
            },
            "colorscale": [
             [
              0,
              "#0d0887"
             ],
             [
              0.1111111111111111,
              "#46039f"
             ],
             [
              0.2222222222222222,
              "#7201a8"
             ],
             [
              0.3333333333333333,
              "#9c179e"
             ],
             [
              0.4444444444444444,
              "#bd3786"
             ],
             [
              0.5555555555555556,
              "#d8576b"
             ],
             [
              0.6666666666666666,
              "#ed7953"
             ],
             [
              0.7777777777777778,
              "#fb9f3a"
             ],
             [
              0.8888888888888888,
              "#fdca26"
             ],
             [
              1,
              "#f0f921"
             ]
            ],
            "type": "histogram2d"
           }
          ],
          "histogram2dcontour": [
           {
            "colorbar": {
             "outlinewidth": 0,
             "ticks": ""
            },
            "colorscale": [
             [
              0,
              "#0d0887"
             ],
             [
              0.1111111111111111,
              "#46039f"
             ],
             [
              0.2222222222222222,
              "#7201a8"
             ],
             [
              0.3333333333333333,
              "#9c179e"
             ],
             [
              0.4444444444444444,
              "#bd3786"
             ],
             [
              0.5555555555555556,
              "#d8576b"
             ],
             [
              0.6666666666666666,
              "#ed7953"
             ],
             [
              0.7777777777777778,
              "#fb9f3a"
             ],
             [
              0.8888888888888888,
              "#fdca26"
             ],
             [
              1,
              "#f0f921"
             ]
            ],
            "type": "histogram2dcontour"
           }
          ],
          "mesh3d": [
           {
            "colorbar": {
             "outlinewidth": 0,
             "ticks": ""
            },
            "type": "mesh3d"
           }
          ],
          "parcoords": [
           {
            "line": {
             "colorbar": {
              "outlinewidth": 0,
              "ticks": ""
             }
            },
            "type": "parcoords"
           }
          ],
          "pie": [
           {
            "automargin": true,
            "type": "pie"
           }
          ],
          "scatter": [
           {
            "marker": {
             "colorbar": {
              "outlinewidth": 0,
              "ticks": ""
             }
            },
            "type": "scatter"
           }
          ],
          "scatter3d": [
           {
            "line": {
             "colorbar": {
              "outlinewidth": 0,
              "ticks": ""
             }
            },
            "marker": {
             "colorbar": {
              "outlinewidth": 0,
              "ticks": ""
             }
            },
            "type": "scatter3d"
           }
          ],
          "scattercarpet": [
           {
            "marker": {
             "colorbar": {
              "outlinewidth": 0,
              "ticks": ""
             }
            },
            "type": "scattercarpet"
           }
          ],
          "scattergeo": [
           {
            "marker": {
             "colorbar": {
              "outlinewidth": 0,
              "ticks": ""
             }
            },
            "type": "scattergeo"
           }
          ],
          "scattergl": [
           {
            "marker": {
             "colorbar": {
              "outlinewidth": 0,
              "ticks": ""
             }
            },
            "type": "scattergl"
           }
          ],
          "scattermapbox": [
           {
            "marker": {
             "colorbar": {
              "outlinewidth": 0,
              "ticks": ""
             }
            },
            "type": "scattermapbox"
           }
          ],
          "scatterpolar": [
           {
            "marker": {
             "colorbar": {
              "outlinewidth": 0,
              "ticks": ""
             }
            },
            "type": "scatterpolar"
           }
          ],
          "scatterpolargl": [
           {
            "marker": {
             "colorbar": {
              "outlinewidth": 0,
              "ticks": ""
             }
            },
            "type": "scatterpolargl"
           }
          ],
          "scatterternary": [
           {
            "marker": {
             "colorbar": {
              "outlinewidth": 0,
              "ticks": ""
             }
            },
            "type": "scatterternary"
           }
          ],
          "surface": [
           {
            "colorbar": {
             "outlinewidth": 0,
             "ticks": ""
            },
            "colorscale": [
             [
              0,
              "#0d0887"
             ],
             [
              0.1111111111111111,
              "#46039f"
             ],
             [
              0.2222222222222222,
              "#7201a8"
             ],
             [
              0.3333333333333333,
              "#9c179e"
             ],
             [
              0.4444444444444444,
              "#bd3786"
             ],
             [
              0.5555555555555556,
              "#d8576b"
             ],
             [
              0.6666666666666666,
              "#ed7953"
             ],
             [
              0.7777777777777778,
              "#fb9f3a"
             ],
             [
              0.8888888888888888,
              "#fdca26"
             ],
             [
              1,
              "#f0f921"
             ]
            ],
            "type": "surface"
           }
          ],
          "table": [
           {
            "cells": {
             "fill": {
              "color": "#EBF0F8"
             },
             "line": {
              "color": "white"
             }
            },
            "header": {
             "fill": {
              "color": "#C8D4E3"
             },
             "line": {
              "color": "white"
             }
            },
            "type": "table"
           }
          ]
         },
         "layout": {
          "annotationdefaults": {
           "arrowcolor": "#2a3f5f",
           "arrowhead": 0,
           "arrowwidth": 1
          },
          "autotypenumbers": "strict",
          "coloraxis": {
           "colorbar": {
            "outlinewidth": 0,
            "ticks": ""
           }
          },
          "colorscale": {
           "diverging": [
            [
             0,
             "#8e0152"
            ],
            [
             0.1,
             "#c51b7d"
            ],
            [
             0.2,
             "#de77ae"
            ],
            [
             0.3,
             "#f1b6da"
            ],
            [
             0.4,
             "#fde0ef"
            ],
            [
             0.5,
             "#f7f7f7"
            ],
            [
             0.6,
             "#e6f5d0"
            ],
            [
             0.7,
             "#b8e186"
            ],
            [
             0.8,
             "#7fbc41"
            ],
            [
             0.9,
             "#4d9221"
            ],
            [
             1,
             "#276419"
            ]
           ],
           "sequential": [
            [
             0,
             "#0d0887"
            ],
            [
             0.1111111111111111,
             "#46039f"
            ],
            [
             0.2222222222222222,
             "#7201a8"
            ],
            [
             0.3333333333333333,
             "#9c179e"
            ],
            [
             0.4444444444444444,
             "#bd3786"
            ],
            [
             0.5555555555555556,
             "#d8576b"
            ],
            [
             0.6666666666666666,
             "#ed7953"
            ],
            [
             0.7777777777777778,
             "#fb9f3a"
            ],
            [
             0.8888888888888888,
             "#fdca26"
            ],
            [
             1,
             "#f0f921"
            ]
           ],
           "sequentialminus": [
            [
             0,
             "#0d0887"
            ],
            [
             0.1111111111111111,
             "#46039f"
            ],
            [
             0.2222222222222222,
             "#7201a8"
            ],
            [
             0.3333333333333333,
             "#9c179e"
            ],
            [
             0.4444444444444444,
             "#bd3786"
            ],
            [
             0.5555555555555556,
             "#d8576b"
            ],
            [
             0.6666666666666666,
             "#ed7953"
            ],
            [
             0.7777777777777778,
             "#fb9f3a"
            ],
            [
             0.8888888888888888,
             "#fdca26"
            ],
            [
             1,
             "#f0f921"
            ]
           ]
          },
          "colorway": [
           "#636efa",
           "#EF553B",
           "#00cc96",
           "#ab63fa",
           "#FFA15A",
           "#19d3f3",
           "#FF6692",
           "#B6E880",
           "#FF97FF",
           "#FECB52"
          ],
          "font": {
           "color": "#2a3f5f"
          },
          "geo": {
           "bgcolor": "white",
           "lakecolor": "white",
           "landcolor": "#E5ECF6",
           "showlakes": true,
           "showland": true,
           "subunitcolor": "white"
          },
          "hoverlabel": {
           "align": "left"
          },
          "hovermode": "closest",
          "mapbox": {
           "style": "light"
          },
          "paper_bgcolor": "white",
          "plot_bgcolor": "#E5ECF6",
          "polar": {
           "angularaxis": {
            "gridcolor": "white",
            "linecolor": "white",
            "ticks": ""
           },
           "bgcolor": "#E5ECF6",
           "radialaxis": {
            "gridcolor": "white",
            "linecolor": "white",
            "ticks": ""
           }
          },
          "scene": {
           "xaxis": {
            "backgroundcolor": "#E5ECF6",
            "gridcolor": "white",
            "gridwidth": 2,
            "linecolor": "white",
            "showbackground": true,
            "ticks": "",
            "zerolinecolor": "white"
           },
           "yaxis": {
            "backgroundcolor": "#E5ECF6",
            "gridcolor": "white",
            "gridwidth": 2,
            "linecolor": "white",
            "showbackground": true,
            "ticks": "",
            "zerolinecolor": "white"
           },
           "zaxis": {
            "backgroundcolor": "#E5ECF6",
            "gridcolor": "white",
            "gridwidth": 2,
            "linecolor": "white",
            "showbackground": true,
            "ticks": "",
            "zerolinecolor": "white"
           }
          },
          "shapedefaults": {
           "line": {
            "color": "#2a3f5f"
           }
          },
          "ternary": {
           "aaxis": {
            "gridcolor": "white",
            "linecolor": "white",
            "ticks": ""
           },
           "baxis": {
            "gridcolor": "white",
            "linecolor": "white",
            "ticks": ""
           },
           "bgcolor": "#E5ECF6",
           "caxis": {
            "gridcolor": "white",
            "linecolor": "white",
            "ticks": ""
           }
          },
          "title": {
           "x": 0.05
          },
          "xaxis": {
           "automargin": true,
           "gridcolor": "white",
           "linecolor": "white",
           "ticks": "",
           "title": {
            "standoff": 15
           },
           "zerolinecolor": "white",
           "zerolinewidth": 2
          },
          "yaxis": {
           "automargin": true,
           "gridcolor": "white",
           "linecolor": "white",
           "ticks": "",
           "title": {
            "standoff": 15
           },
           "zerolinecolor": "white",
           "zerolinewidth": 2
          }
         }
        },
        "width": 1000
       }
      }
     },
     "metadata": {},
     "output_type": "display_data"
    }
   ],
   "source": [
    "Scene = dict(xaxis = dict(title  = 'PC1'),yaxis = dict(title  = 'PC2'),zaxis = dict(title  = 'PC3'))\n",
    "trace = go.Scatter3d(x=X[:,0], y=X[:,1], z=X[:,2], mode='markers',marker=dict(colorscale='Viridis', opacity=0.3, size = 10, color=dbscan4.labels_))\n",
    "layout = go.Layout(margin=dict(l=0,r=0),scene = Scene, height = 1000,width = 1000)\n",
    "dt = [trace]\n",
    "fig = go.Figure(data = dt, layout = layout)\n",
    "fig.show()"
   ]
  },
  {
   "attachments": {},
   "cell_type": "markdown",
   "metadata": {},
   "source": [
    "### Comparing DBSCAN to hierarchical clustering"
   ]
  },
  {
   "attachments": {},
   "cell_type": "markdown",
   "metadata": {},
   "source": [
    "Linkage method 'ward' was chosen for hierarchical clustering and minPts = 4 with epsilons equal to 3 and 3.1 for further analysis based on the above outcomes."
   ]
  },
  {
   "cell_type": "code",
   "execution_count": 38,
   "metadata": {},
   "outputs": [],
   "source": [
    "agg_clust = AgglomerativeClustering(n_clusters=8, linkage='ward').fit(X)"
   ]
  },
  {
   "cell_type": "code",
   "execution_count": 39,
   "metadata": {},
   "outputs": [
    {
     "name": "stdout",
     "output_type": "stream",
     "text": [
      "0.7333333333333333 0.8344827586206897 0.8344827586206897\n",
      "0.30178497301784973 0.4098583056979198 0.59675550405562\n"
     ]
    }
   ],
   "source": [
    "# Rand index and adjusted Rand index\n",
    "\n",
    "print(rand_score(agg_clust.labels_, dbscan3.labels_),\n",
    "rand_score(agg_clust.labels_, dbscan4.labels_),\n",
    "rand_score(dbscan3.labels_, dbscan4.labels_))\n",
    "\n",
    "print(adjusted_rand_score(agg_clust.labels_, dbscan3.labels_),\n",
    "adjusted_rand_score(agg_clust.labels_, dbscan4.labels_),\n",
    "adjusted_rand_score(dbscan3.labels_, dbscan4.labels_))"
   ]
  },
  {
   "attachments": {},
   "cell_type": "markdown",
   "metadata": {},
   "source": [
    "Plots with countries' labels"
   ]
  },
  {
   "cell_type": "code",
   "execution_count": 40,
   "metadata": {},
   "outputs": [
    {
     "data": {
      "text/plain": [
       "Text(0, 0.5, 'PC2')"
      ]
     },
     "execution_count": 40,
     "metadata": {},
     "output_type": "execute_result"
    },
    {
     "data": {
      "image/png": "[encoded data removed]",
      "text/plain": [
       "<Figure size 1080x1080 with 3 Axes>"
      ]
     },
     "metadata": {},
     "output_type": "display_data"
    }
   ],
   "source": [
    "plt.style.use('fivethirtyeight')\n",
    "\n",
    "fig = plt.figure(figsize=(15,15), tight_layout=False)\n",
    "spec = gridspec.GridSpec(nrows=2, ncols=4,  figure=fig, wspace=0.5, hspace=0.2)\n",
    "\n",
    "ax1 = fig.add_subplot(spec[0, :2])\n",
    "ax1.scatter(X[:, 0], X[:, 1], s=20, color=cols[dbscan3.labels_ + 1])\n",
    "for i, label in enumerate(data_y.Country):\n",
    "    plt.annotate(label, (X[i,0], X[i,1]), fontsize='xx-small')\n",
    "ax1.set_title('DBSCAN1', fontsize='medium')\n",
    "ax1.set_xlabel('PC1', fontsize='medium')\n",
    "ax1.set_ylabel('PC2', fontsize='medium')\n",
    "\n",
    "ax2 = fig.add_subplot(spec[0, 2:])\n",
    "ax2.scatter(X[:, 0], X[:, 1], s=20, color=cols[dbscan4.labels_ + 1])\n",
    "for i, label in enumerate(data_y.Country):\n",
    "    plt.annotate(label, (X[i,0], X[i,1]), fontsize='xx-small')\n",
    "ax2.set_title('DBSCAN2', fontsize='medium')\n",
    "ax2.set_xlabel('PC1', fontsize='medium')\n",
    "\n",
    "ax3 = fig.add_subplot(spec[1, 1:3])\n",
    "ax3.scatter(X[:, 0], X[:, 1], s=20, color=cols[agg_clust.labels_ + 1])\n",
    "for i, label in enumerate(data_y.Country):\n",
    "    plt.annotate(label, (X[i,0], X[i,1]), fontsize='xx-small')\n",
    "ax3.set_title('HCA', fontsize='medium')\n",
    "ax3.set_xlabel('PC1', fontsize='medium')\n",
    "ax3.set_ylabel('PC2', fontsize='medium')\n"
   ]
  },
  {
   "attachments": {},
   "cell_type": "markdown",
   "metadata": {},
   "source": [
    "### Appendix:\n",
    "1. Calculation of loadings for every principal component\n",
    "2. A table with assigned labels to countries for every method \n",
    "3. Mean value of the standardised variables within each cluster"
   ]
  },
  {
   "cell_type": "code",
   "execution_count": 41,
   "metadata": {},
   "outputs": [],
   "source": [
    "# assigning clusters' labels\n",
    "\n",
    "data_clust = data_scaled.copy()\n",
    "data_clust = data_clust.join(data_y)\n",
    "data_clust['dbscan3'] = dbscan3.labels_\n",
    "data_clust['dbscan4'] = dbscan4.labels_\n",
    "data_clust['agglomerative'] = agg_clust.labels_"
   ]
  },
  {
   "cell_type": "code",
   "execution_count": 42,
   "metadata": {},
   "outputs": [
    {
     "data": {
      "text/html": [
       "<div>\n",
       "<style scoped>\n",
       "    .dataframe tbody tr th:only-of-type {\n",
       "        vertical-align: middle;\n",
       "    }\n",
       "\n",
       "    .dataframe tbody tr th {\n",
       "        vertical-align: top;\n",
       "    }\n",
       "\n",
       "    .dataframe thead th {\n",
       "        text-align: right;\n",
       "    }\n",
       "</style>\n",
       "<table border=\"1\" class=\"dataframe\">\n",
       "  <thead>\n",
       "    <tr style=\"text-align: right;\">\n",
       "      <th></th>\n",
       "      <th>PC1</th>\n",
       "      <th>PC2</th>\n",
       "      <th>PC3</th>\n",
       "      <th>PC4</th>\n",
       "      <th>PC5</th>\n",
       "      <th>PC6</th>\n",
       "    </tr>\n",
       "  </thead>\n",
       "  <tbody>\n",
       "    <tr>\n",
       "      <th>Disability_EXP</th>\n",
       "      <td>0.636783</td>\n",
       "      <td>-0.468468</td>\n",
       "      <td>-0.309093</td>\n",
       "      <td>-0.299864</td>\n",
       "      <td>0.113033</td>\n",
       "      <td>0.007198</td>\n",
       "    </tr>\n",
       "    <tr>\n",
       "      <th>Fam_child_EXP</th>\n",
       "      <td>-0.004449</td>\n",
       "      <td>-0.577916</td>\n",
       "      <td>-0.360587</td>\n",
       "      <td>-0.413014</td>\n",
       "      <td>-0.324076</td>\n",
       "      <td>0.109560</td>\n",
       "    </tr>\n",
       "    <tr>\n",
       "      <th>Housing_EXP</th>\n",
       "      <td>0.428502</td>\n",
       "      <td>-0.095625</td>\n",
       "      <td>0.629341</td>\n",
       "      <td>-0.079365</td>\n",
       "      <td>-0.179405</td>\n",
       "      <td>-0.341048</td>\n",
       "    </tr>\n",
       "    <tr>\n",
       "      <th>Sickness_EXP</th>\n",
       "      <td>-0.223025</td>\n",
       "      <td>-0.555559</td>\n",
       "      <td>0.236820</td>\n",
       "      <td>0.421933</td>\n",
       "      <td>-0.043536</td>\n",
       "      <td>-0.456816</td>\n",
       "    </tr>\n",
       "    <tr>\n",
       "      <th>Soc_prot_toGDP</th>\n",
       "      <td>0.795893</td>\n",
       "      <td>0.529061</td>\n",
       "      <td>-0.231347</td>\n",
       "      <td>0.064411</td>\n",
       "      <td>-0.080067</td>\n",
       "      <td>0.047513</td>\n",
       "    </tr>\n",
       "    <tr>\n",
       "      <th>Tot_EXP_toGDP</th>\n",
       "      <td>0.789148</td>\n",
       "      <td>0.540251</td>\n",
       "      <td>-0.207466</td>\n",
       "      <td>0.072461</td>\n",
       "      <td>-0.106243</td>\n",
       "      <td>0.031661</td>\n",
       "    </tr>\n",
       "    <tr>\n",
       "      <th>Unemployment_EXP</th>\n",
       "      <td>0.252801</td>\n",
       "      <td>0.591114</td>\n",
       "      <td>0.328200</td>\n",
       "      <td>-0.262751</td>\n",
       "      <td>0.088092</td>\n",
       "      <td>-0.458392</td>\n",
       "    </tr>\n",
       "    <tr>\n",
       "      <th>Tot_receipts</th>\n",
       "      <td>0.612775</td>\n",
       "      <td>0.543146</td>\n",
       "      <td>-0.441695</td>\n",
       "      <td>-0.036864</td>\n",
       "      <td>0.068213</td>\n",
       "      <td>0.083253</td>\n",
       "    </tr>\n",
       "    <tr>\n",
       "      <th>VAT</th>\n",
       "      <td>-0.476573</td>\n",
       "      <td>-0.394289</td>\n",
       "      <td>-0.232306</td>\n",
       "      <td>-0.430247</td>\n",
       "      <td>0.468012</td>\n",
       "      <td>-0.158119</td>\n",
       "    </tr>\n",
       "    <tr>\n",
       "      <th>Current_taxes</th>\n",
       "      <td>0.794420</td>\n",
       "      <td>-0.176404</td>\n",
       "      <td>0.470578</td>\n",
       "      <td>0.016711</td>\n",
       "      <td>0.012928</td>\n",
       "      <td>0.207955</td>\n",
       "    </tr>\n",
       "    <tr>\n",
       "      <th>Net_soc_cont</th>\n",
       "      <td>-0.609703</td>\n",
       "      <td>0.299534</td>\n",
       "      <td>-0.447809</td>\n",
       "      <td>0.288794</td>\n",
       "      <td>-0.407561</td>\n",
       "      <td>-0.200173</td>\n",
       "    </tr>\n",
       "    <tr>\n",
       "      <th>Diff_employment_MF</th>\n",
       "      <td>-0.447816</td>\n",
       "      <td>0.248970</td>\n",
       "      <td>0.312521</td>\n",
       "      <td>0.430078</td>\n",
       "      <td>0.102530</td>\n",
       "      <td>0.594461</td>\n",
       "    </tr>\n",
       "    <tr>\n",
       "      <th>Formal_VA</th>\n",
       "      <td>0.876380</td>\n",
       "      <td>-0.191903</td>\n",
       "      <td>-0.013808</td>\n",
       "      <td>0.068036</td>\n",
       "      <td>-0.326707</td>\n",
       "      <td>-0.088239</td>\n",
       "    </tr>\n",
       "    <tr>\n",
       "      <th>Informal_VA</th>\n",
       "      <td>0.750976</td>\n",
       "      <td>-0.318468</td>\n",
       "      <td>-0.168716</td>\n",
       "      <td>0.081608</td>\n",
       "      <td>-0.146024</td>\n",
       "      <td>-0.164249</td>\n",
       "    </tr>\n",
       "    <tr>\n",
       "      <th>Pub_exp_edu</th>\n",
       "      <td>0.856880</td>\n",
       "      <td>-0.113185</td>\n",
       "      <td>-0.138581</td>\n",
       "      <td>-0.091459</td>\n",
       "      <td>0.239052</td>\n",
       "      <td>-0.064042</td>\n",
       "    </tr>\n",
       "    <tr>\n",
       "      <th>Union_density_rate</th>\n",
       "      <td>0.741024</td>\n",
       "      <td>-0.201925</td>\n",
       "      <td>0.129880</td>\n",
       "      <td>-0.001095</td>\n",
       "      <td>0.524110</td>\n",
       "      <td>0.171182</td>\n",
       "    </tr>\n",
       "    <tr>\n",
       "      <th>Barg_cov_rate</th>\n",
       "      <td>0.771966</td>\n",
       "      <td>0.475606</td>\n",
       "      <td>-0.024802</td>\n",
       "      <td>0.170807</td>\n",
       "      <td>0.205830</td>\n",
       "      <td>-0.135859</td>\n",
       "    </tr>\n",
       "    <tr>\n",
       "      <th>Trust_others</th>\n",
       "      <td>0.702880</td>\n",
       "      <td>-0.388392</td>\n",
       "      <td>0.097831</td>\n",
       "      <td>0.059405</td>\n",
       "      <td>-0.061179</td>\n",
       "      <td>0.137586</td>\n",
       "    </tr>\n",
       "    <tr>\n",
       "      <th>Trust_polSys</th>\n",
       "      <td>0.535497</td>\n",
       "      <td>-0.462285</td>\n",
       "      <td>0.111541</td>\n",
       "      <td>-0.043279</td>\n",
       "      <td>-0.436989</td>\n",
       "      <td>0.311916</td>\n",
       "    </tr>\n",
       "    <tr>\n",
       "      <th>gini_disp</th>\n",
       "      <td>-0.528095</td>\n",
       "      <td>0.235375</td>\n",
       "      <td>0.169594</td>\n",
       "      <td>-0.609122</td>\n",
       "      <td>-0.079707</td>\n",
       "      <td>0.171469</td>\n",
       "    </tr>\n",
       "    <tr>\n",
       "      <th>gini_mkt</th>\n",
       "      <td>0.112599</td>\n",
       "      <td>0.543004</td>\n",
       "      <td>0.335688</td>\n",
       "      <td>-0.583478</td>\n",
       "      <td>-0.299995</td>\n",
       "      <td>0.055336</td>\n",
       "    </tr>\n",
       "  </tbody>\n",
       "</table>\n",
       "</div>"
      ],
      "text/plain": [
       "                         PC1       PC2       PC3       PC4       PC5       PC6\n",
       "Disability_EXP      0.636783 -0.468468 -0.309093 -0.299864  0.113033  0.007198\n",
       "Fam_child_EXP      -0.004449 -0.577916 -0.360587 -0.413014 -0.324076  0.109560\n",
       "Housing_EXP         0.428502 -0.095625  0.629341 -0.079365 -0.179405 -0.341048\n",
       "Sickness_EXP       -0.223025 -0.555559  0.236820  0.421933 -0.043536 -0.456816\n",
       "Soc_prot_toGDP      0.795893  0.529061 -0.231347  0.064411 -0.080067  0.047513\n",
       "Tot_EXP_toGDP       0.789148  0.540251 -0.207466  0.072461 -0.106243  0.031661\n",
       "Unemployment_EXP    0.252801  0.591114  0.328200 -0.262751  0.088092 -0.458392\n",
       "Tot_receipts        0.612775  0.543146 -0.441695 -0.036864  0.068213  0.083253\n",
       "VAT                -0.476573 -0.394289 -0.232306 -0.430247  0.468012 -0.158119\n",
       "Current_taxes       0.794420 -0.176404  0.470578  0.016711  0.012928  0.207955\n",
       "Net_soc_cont       -0.609703  0.299534 -0.447809  0.288794 -0.407561 -0.200173\n",
       "Diff_employment_MF -0.447816  0.248970  0.312521  0.430078  0.102530  0.594461\n",
       "Formal_VA           0.876380 -0.191903 -0.013808  0.068036 -0.326707 -0.088239\n",
       "Informal_VA         0.750976 -0.318468 -0.168716  0.081608 -0.146024 -0.164249\n",
       "Pub_exp_edu         0.856880 -0.113185 -0.138581 -0.091459  0.239052 -0.064042\n",
       "Union_density_rate  0.741024 -0.201925  0.129880 -0.001095  0.524110  0.171182\n",
       "Barg_cov_rate       0.771966  0.475606 -0.024802  0.170807  0.205830 -0.135859\n",
       "Trust_others        0.702880 -0.388392  0.097831  0.059405 -0.061179  0.137586\n",
       "Trust_polSys        0.535497 -0.462285  0.111541 -0.043279 -0.436989  0.311916\n",
       "gini_disp          -0.528095  0.235375  0.169594 -0.609122 -0.079707  0.171469\n",
       "gini_mkt            0.112599  0.543004  0.335688 -0.583478 -0.299995  0.055336"
      ]
     },
     "execution_count": 42,
     "metadata": {},
     "output_type": "execute_result"
    }
   ],
   "source": [
    "# calculating loadings\n",
    "loadings = pca1.components_.T * np.sqrt(pca1.explained_variance_)\n",
    "\n",
    "loading_matrix = pd.DataFrame(loadings, columns=['PC1', 'PC2', 'PC3', 'PC4', 'PC5', 'PC6'], index=data_scaled.columns)\n",
    "loading_matrix"
   ]
  },
  {
   "cell_type": "code",
   "execution_count": 43,
   "metadata": {},
   "outputs": [
    {
     "data": {
      "text/html": [
       "<div>\n",
       "<style scoped>\n",
       "    .dataframe tbody tr th:only-of-type {\n",
       "        vertical-align: middle;\n",
       "    }\n",
       "\n",
       "    .dataframe tbody tr th {\n",
       "        vertical-align: top;\n",
       "    }\n",
       "\n",
       "    .dataframe thead th {\n",
       "        text-align: right;\n",
       "    }\n",
       "</style>\n",
       "<table border=\"1\" class=\"dataframe\">\n",
       "  <thead>\n",
       "    <tr style=\"text-align: right;\">\n",
       "      <th></th>\n",
       "      <th>Country</th>\n",
       "      <th>dbscan3</th>\n",
       "      <th>dbscan4</th>\n",
       "      <th>agglomerative</th>\n",
       "    </tr>\n",
       "  </thead>\n",
       "  <tbody>\n",
       "    <tr>\n",
       "      <th>11</th>\n",
       "      <td>Finland</td>\n",
       "      <td>2</td>\n",
       "      <td>3</td>\n",
       "      <td>0</td>\n",
       "    </tr>\n",
       "    <tr>\n",
       "      <th>16</th>\n",
       "      <td>Iceland</td>\n",
       "      <td>-1</td>\n",
       "      <td>-1</td>\n",
       "      <td>0</td>\n",
       "    </tr>\n",
       "    <tr>\n",
       "      <th>7</th>\n",
       "      <td>Denmark</td>\n",
       "      <td>2</td>\n",
       "      <td>3</td>\n",
       "      <td>0</td>\n",
       "    </tr>\n",
       "    <tr>\n",
       "      <th>23</th>\n",
       "      <td>Norway</td>\n",
       "      <td>2</td>\n",
       "      <td>3</td>\n",
       "      <td>0</td>\n",
       "    </tr>\n",
       "    <tr>\n",
       "      <th>27</th>\n",
       "      <td>Sweden</td>\n",
       "      <td>2</td>\n",
       "      <td>3</td>\n",
       "      <td>0</td>\n",
       "    </tr>\n",
       "    <tr>\n",
       "      <th>4</th>\n",
       "      <td>Cyprus</td>\n",
       "      <td>1</td>\n",
       "      <td>2</td>\n",
       "      <td>1</td>\n",
       "    </tr>\n",
       "    <tr>\n",
       "      <th>9</th>\n",
       "      <td>Greece</td>\n",
       "      <td>1</td>\n",
       "      <td>2</td>\n",
       "      <td>1</td>\n",
       "    </tr>\n",
       "    <tr>\n",
       "      <th>10</th>\n",
       "      <td>Spain</td>\n",
       "      <td>1</td>\n",
       "      <td>2</td>\n",
       "      <td>1</td>\n",
       "    </tr>\n",
       "    <tr>\n",
       "      <th>25</th>\n",
       "      <td>Portugal</td>\n",
       "      <td>1</td>\n",
       "      <td>2</td>\n",
       "      <td>1</td>\n",
       "    </tr>\n",
       "    <tr>\n",
       "      <th>17</th>\n",
       "      <td>Italy</td>\n",
       "      <td>1</td>\n",
       "      <td>-1</td>\n",
       "      <td>1</td>\n",
       "    </tr>\n",
       "    <tr>\n",
       "      <th>6</th>\n",
       "      <td>Germany</td>\n",
       "      <td>0</td>\n",
       "      <td>0</td>\n",
       "      <td>2</td>\n",
       "    </tr>\n",
       "    <tr>\n",
       "      <th>22</th>\n",
       "      <td>Netherlands</td>\n",
       "      <td>0</td>\n",
       "      <td>0</td>\n",
       "      <td>2</td>\n",
       "    </tr>\n",
       "    <tr>\n",
       "      <th>3</th>\n",
       "      <td>Switzerland</td>\n",
       "      <td>0</td>\n",
       "      <td>-1</td>\n",
       "      <td>2</td>\n",
       "    </tr>\n",
       "    <tr>\n",
       "      <th>24</th>\n",
       "      <td>Poland</td>\n",
       "      <td>1</td>\n",
       "      <td>1</td>\n",
       "      <td>2</td>\n",
       "    </tr>\n",
       "    <tr>\n",
       "      <th>19</th>\n",
       "      <td>Luxembourg</td>\n",
       "      <td>0</td>\n",
       "      <td>0</td>\n",
       "      <td>2</td>\n",
       "    </tr>\n",
       "    <tr>\n",
       "      <th>26</th>\n",
       "      <td>Romania</td>\n",
       "      <td>1</td>\n",
       "      <td>1</td>\n",
       "      <td>3</td>\n",
       "    </tr>\n",
       "    <tr>\n",
       "      <th>21</th>\n",
       "      <td>Malta</td>\n",
       "      <td>-1</td>\n",
       "      <td>-1</td>\n",
       "      <td>3</td>\n",
       "    </tr>\n",
       "    <tr>\n",
       "      <th>20</th>\n",
       "      <td>Latvia</td>\n",
       "      <td>1</td>\n",
       "      <td>1</td>\n",
       "      <td>4</td>\n",
       "    </tr>\n",
       "    <tr>\n",
       "      <th>13</th>\n",
       "      <td>Croatia</td>\n",
       "      <td>1</td>\n",
       "      <td>1</td>\n",
       "      <td>4</td>\n",
       "    </tr>\n",
       "    <tr>\n",
       "      <th>8</th>\n",
       "      <td>Estonia</td>\n",
       "      <td>1</td>\n",
       "      <td>1</td>\n",
       "      <td>4</td>\n",
       "    </tr>\n",
       "    <tr>\n",
       "      <th>2</th>\n",
       "      <td>Bulgaria</td>\n",
       "      <td>1</td>\n",
       "      <td>1</td>\n",
       "      <td>4</td>\n",
       "    </tr>\n",
       "    <tr>\n",
       "      <th>18</th>\n",
       "      <td>Lithuania</td>\n",
       "      <td>1</td>\n",
       "      <td>1</td>\n",
       "      <td>4</td>\n",
       "    </tr>\n",
       "    <tr>\n",
       "      <th>14</th>\n",
       "      <td>Hungary</td>\n",
       "      <td>1</td>\n",
       "      <td>1</td>\n",
       "      <td>4</td>\n",
       "    </tr>\n",
       "    <tr>\n",
       "      <th>15</th>\n",
       "      <td>Ireland</td>\n",
       "      <td>-1</td>\n",
       "      <td>-1</td>\n",
       "      <td>5</td>\n",
       "    </tr>\n",
       "    <tr>\n",
       "      <th>0</th>\n",
       "      <td>Austria</td>\n",
       "      <td>0</td>\n",
       "      <td>0</td>\n",
       "      <td>6</td>\n",
       "    </tr>\n",
       "    <tr>\n",
       "      <th>12</th>\n",
       "      <td>France</td>\n",
       "      <td>0</td>\n",
       "      <td>0</td>\n",
       "      <td>6</td>\n",
       "    </tr>\n",
       "    <tr>\n",
       "      <th>1</th>\n",
       "      <td>Belgium</td>\n",
       "      <td>0</td>\n",
       "      <td>0</td>\n",
       "      <td>6</td>\n",
       "    </tr>\n",
       "    <tr>\n",
       "      <th>5</th>\n",
       "      <td>Czechia</td>\n",
       "      <td>1</td>\n",
       "      <td>1</td>\n",
       "      <td>7</td>\n",
       "    </tr>\n",
       "    <tr>\n",
       "      <th>28</th>\n",
       "      <td>Slovenia</td>\n",
       "      <td>1</td>\n",
       "      <td>1</td>\n",
       "      <td>7</td>\n",
       "    </tr>\n",
       "    <tr>\n",
       "      <th>29</th>\n",
       "      <td>Slovakia</td>\n",
       "      <td>1</td>\n",
       "      <td>1</td>\n",
       "      <td>7</td>\n",
       "    </tr>\n",
       "  </tbody>\n",
       "</table>\n",
       "</div>"
      ],
      "text/plain": [
       "        Country  dbscan3  dbscan4  agglomerative\n",
       "11      Finland        2        3              0\n",
       "16      Iceland       -1       -1              0\n",
       "7       Denmark        2        3              0\n",
       "23       Norway        2        3              0\n",
       "27       Sweden        2        3              0\n",
       "4        Cyprus        1        2              1\n",
       "9        Greece        1        2              1\n",
       "10        Spain        1        2              1\n",
       "25     Portugal        1        2              1\n",
       "17        Italy        1       -1              1\n",
       "6       Germany        0        0              2\n",
       "22  Netherlands        0        0              2\n",
       "3   Switzerland        0       -1              2\n",
       "24       Poland        1        1              2\n",
       "19   Luxembourg        0        0              2\n",
       "26      Romania        1        1              3\n",
       "21        Malta       -1       -1              3\n",
       "20       Latvia        1        1              4\n",
       "13      Croatia        1        1              4\n",
       "8       Estonia        1        1              4\n",
       "2      Bulgaria        1        1              4\n",
       "18    Lithuania        1        1              4\n",
       "14      Hungary        1        1              4\n",
       "15      Ireland       -1       -1              5\n",
       "0       Austria        0        0              6\n",
       "12       France        0        0              6\n",
       "1       Belgium        0        0              6\n",
       "5       Czechia        1        1              7\n",
       "28     Slovenia        1        1              7\n",
       "29     Slovakia        1        1              7"
      ]
     },
     "execution_count": 43,
     "metadata": {},
     "output_type": "execute_result"
    }
   ],
   "source": [
    "# countries and their labels\n",
    "data_clust[['Country', 'dbscan3', 'dbscan4', 'agglomerative']].sort_values('agglomerative')"
   ]
  },
  {
   "attachments": {},
   "cell_type": "markdown",
   "metadata": {},
   "source": [
    "Summarising variables with regard to clusters:"
   ]
  },
  {
   "cell_type": "code",
   "execution_count": 44,
   "metadata": {},
   "outputs": [
    {
     "data": {
      "text/html": [
       "<div>\n",
       "<style scoped>\n",
       "    .dataframe tbody tr th:only-of-type {\n",
       "        vertical-align: middle;\n",
       "    }\n",
       "\n",
       "    .dataframe tbody tr th {\n",
       "        vertical-align: top;\n",
       "    }\n",
       "\n",
       "    .dataframe thead th {\n",
       "        text-align: right;\n",
       "    }\n",
       "</style>\n",
       "<table border=\"1\" class=\"dataframe\">\n",
       "  <thead>\n",
       "    <tr style=\"text-align: right;\">\n",
       "      <th>agglomerative</th>\n",
       "      <th>0</th>\n",
       "      <th>1</th>\n",
       "      <th>2</th>\n",
       "      <th>3</th>\n",
       "      <th>4</th>\n",
       "      <th>5</th>\n",
       "      <th>6</th>\n",
       "      <th>7</th>\n",
       "    </tr>\n",
       "  </thead>\n",
       "  <tbody>\n",
       "    <tr>\n",
       "      <th>Disability_EXP</th>\n",
       "      <td>1.58</td>\n",
       "      <td>-0.81</td>\n",
       "      <td>0.13</td>\n",
       "      <td>-1.02</td>\n",
       "      <td>0.17</td>\n",
       "      <td>-0.83</td>\n",
       "      <td>-0.35</td>\n",
       "      <td>-0.54</td>\n",
       "    </tr>\n",
       "    <tr>\n",
       "      <th>Fam_child_EXP</th>\n",
       "      <td>0.50</td>\n",
       "      <td>-1.28</td>\n",
       "      <td>0.41</td>\n",
       "      <td>-0.22</td>\n",
       "      <td>0.64</td>\n",
       "      <td>0.16</td>\n",
       "      <td>-0.44</td>\n",
       "      <td>-0.12</td>\n",
       "    </tr>\n",
       "    <tr>\n",
       "      <th>Housing_EXP</th>\n",
       "      <td>0.74</td>\n",
       "      <td>-0.48</td>\n",
       "      <td>0.04</td>\n",
       "      <td>-0.53</td>\n",
       "      <td>-0.36</td>\n",
       "      <td>3.05</td>\n",
       "      <td>0.13</td>\n",
       "      <td>-0.57</td>\n",
       "    </tr>\n",
       "    <tr>\n",
       "      <th>Sickness_EXP</th>\n",
       "      <td>-0.45</td>\n",
       "      <td>-1.03</td>\n",
       "      <td>0.16</td>\n",
       "      <td>0.89</td>\n",
       "      <td>0.23</td>\n",
       "      <td>2.18</td>\n",
       "      <td>-0.51</td>\n",
       "      <td>0.92</td>\n",
       "    </tr>\n",
       "    <tr>\n",
       "      <th>Soc_prot_toGDP</th>\n",
       "      <td>1.01</td>\n",
       "      <td>0.24</td>\n",
       "      <td>0.43</td>\n",
       "      <td>-1.38</td>\n",
       "      <td>-1.00</td>\n",
       "      <td>-1.65</td>\n",
       "      <td>1.23</td>\n",
       "      <td>-0.57</td>\n",
       "    </tr>\n",
       "    <tr>\n",
       "      <th>Tot_EXP_toGDP</th>\n",
       "      <td>0.94</td>\n",
       "      <td>0.21</td>\n",
       "      <td>0.47</td>\n",
       "      <td>-1.37</td>\n",
       "      <td>-1.00</td>\n",
       "      <td>-1.56</td>\n",
       "      <td>1.30</td>\n",
       "      <td>-0.57</td>\n",
       "    </tr>\n",
       "    <tr>\n",
       "      <th>Unemployment_EXP</th>\n",
       "      <td>0.03</td>\n",
       "      <td>0.83</td>\n",
       "      <td>-0.61</td>\n",
       "      <td>-1.71</td>\n",
       "      <td>-0.16</td>\n",
       "      <td>1.37</td>\n",
       "      <td>1.25</td>\n",
       "      <td>-0.67</td>\n",
       "    </tr>\n",
       "    <tr>\n",
       "      <th>Tot_receipts</th>\n",
       "      <td>0.84</td>\n",
       "      <td>0.21</td>\n",
       "      <td>-0.07</td>\n",
       "      <td>-1.36</td>\n",
       "      <td>-0.60</td>\n",
       "      <td>-2.34</td>\n",
       "      <td>1.38</td>\n",
       "      <td>-0.13</td>\n",
       "    </tr>\n",
       "    <tr>\n",
       "      <th>VAT</th>\n",
       "      <td>-0.00</td>\n",
       "      <td>-0.15</td>\n",
       "      <td>-0.92</td>\n",
       "      <td>0.21</td>\n",
       "      <td>1.46</td>\n",
       "      <td>-0.50</td>\n",
       "      <td>-1.09</td>\n",
       "      <td>-0.04</td>\n",
       "    </tr>\n",
       "    <tr>\n",
       "      <th>Current_taxes</th>\n",
       "      <td>1.35</td>\n",
       "      <td>-0.31</td>\n",
       "      <td>0.39</td>\n",
       "      <td>-0.12</td>\n",
       "      <td>-0.89</td>\n",
       "      <td>1.13</td>\n",
       "      <td>-0.04</td>\n",
       "      <td>-0.85</td>\n",
       "    </tr>\n",
       "    <tr>\n",
       "      <th>Net_soc_cont</th>\n",
       "      <td>-1.56</td>\n",
       "      <td>0.25</td>\n",
       "      <td>0.37</td>\n",
       "      <td>-0.02</td>\n",
       "      <td>0.14</td>\n",
       "      <td>-1.06</td>\n",
       "      <td>0.44</td>\n",
       "      <td>1.22</td>\n",
       "    </tr>\n",
       "    <tr>\n",
       "      <th>Diff_employment_MF</th>\n",
       "      <td>-0.92</td>\n",
       "      <td>0.87</td>\n",
       "      <td>0.04</td>\n",
       "      <td>2.01</td>\n",
       "      <td>-0.56</td>\n",
       "      <td>0.55</td>\n",
       "      <td>-0.41</td>\n",
       "      <td>0.01</td>\n",
       "    </tr>\n",
       "    <tr>\n",
       "      <th>Formal_VA</th>\n",
       "      <td>1.35</td>\n",
       "      <td>-0.83</td>\n",
       "      <td>0.82</td>\n",
       "      <td>-1.16</td>\n",
       "      <td>-0.82</td>\n",
       "      <td>0.65</td>\n",
       "      <td>0.25</td>\n",
       "      <td>-0.29</td>\n",
       "    </tr>\n",
       "    <tr>\n",
       "      <th>Informal_VA</th>\n",
       "      <td>1.47</td>\n",
       "      <td>-0.79</td>\n",
       "      <td>0.60</td>\n",
       "      <td>-1.20</td>\n",
       "      <td>-0.57</td>\n",
       "      <td>0.30</td>\n",
       "      <td>-0.27</td>\n",
       "      <td>-0.02</td>\n",
       "    </tr>\n",
       "    <tr>\n",
       "      <th>Pub_exp_edu</th>\n",
       "      <td>1.79</td>\n",
       "      <td>-0.46</td>\n",
       "      <td>-0.18</td>\n",
       "      <td>-0.90</td>\n",
       "      <td>-0.59</td>\n",
       "      <td>-1.00</td>\n",
       "      <td>0.63</td>\n",
       "      <td>-0.42</td>\n",
       "    </tr>\n",
       "    <tr>\n",
       "      <th>Union_density_rate</th>\n",
       "      <td>1.84</td>\n",
       "      <td>-0.15</td>\n",
       "      <td>-0.49</td>\n",
       "      <td>0.21</td>\n",
       "      <td>-0.79</td>\n",
       "      <td>-0.14</td>\n",
       "      <td>0.02</td>\n",
       "      <td>-0.54</td>\n",
       "    </tr>\n",
       "    <tr>\n",
       "      <th>Barg_cov_rate</th>\n",
       "      <td>0.97</td>\n",
       "      <td>0.36</td>\n",
       "      <td>-0.15</td>\n",
       "      <td>-0.84</td>\n",
       "      <td>-1.09</td>\n",
       "      <td>-0.68</td>\n",
       "      <td>1.42</td>\n",
       "      <td>-0.40</td>\n",
       "    </tr>\n",
       "    <tr>\n",
       "      <th>Trust_others</th>\n",
       "      <td>1.55</td>\n",
       "      <td>-0.68</td>\n",
       "      <td>0.05</td>\n",
       "      <td>0.33</td>\n",
       "      <td>-0.59</td>\n",
       "      <td>0.45</td>\n",
       "      <td>-0.55</td>\n",
       "      <td>-0.17</td>\n",
       "    </tr>\n",
       "    <tr>\n",
       "      <th>Trust_polSys</th>\n",
       "      <td>1.00</td>\n",
       "      <td>-1.38</td>\n",
       "      <td>0.79</td>\n",
       "      <td>0.89</td>\n",
       "      <td>-0.19</td>\n",
       "      <td>-0.57</td>\n",
       "      <td>0.00</td>\n",
       "      <td>-0.71</td>\n",
       "    </tr>\n",
       "    <tr>\n",
       "      <th>gini_disp</th>\n",
       "      <td>-0.91</td>\n",
       "      <td>0.67</td>\n",
       "      <td>0.01</td>\n",
       "      <td>0.48</td>\n",
       "      <td>1.01</td>\n",
       "      <td>-0.17</td>\n",
       "      <td>-0.38</td>\n",
       "      <td>-1.52</td>\n",
       "    </tr>\n",
       "    <tr>\n",
       "      <th>gini_mkt</th>\n",
       "      <td>-0.08</td>\n",
       "      <td>0.59</td>\n",
       "      <td>0.15</td>\n",
       "      <td>-0.56</td>\n",
       "      <td>0.00</td>\n",
       "      <td>1.27</td>\n",
       "      <td>0.64</td>\n",
       "      <td>-1.79</td>\n",
       "    </tr>\n",
       "  </tbody>\n",
       "</table>\n",
       "</div>"
      ],
      "text/plain": [
       "agglomerative          0     1     2     3     4     5     6     7\n",
       "Disability_EXP      1.58 -0.81  0.13 -1.02  0.17 -0.83 -0.35 -0.54\n",
       "Fam_child_EXP       0.50 -1.28  0.41 -0.22  0.64  0.16 -0.44 -0.12\n",
       "Housing_EXP         0.74 -0.48  0.04 -0.53 -0.36  3.05  0.13 -0.57\n",
       "Sickness_EXP       -0.45 -1.03  0.16  0.89  0.23  2.18 -0.51  0.92\n",
       "Soc_prot_toGDP      1.01  0.24  0.43 -1.38 -1.00 -1.65  1.23 -0.57\n",
       "Tot_EXP_toGDP       0.94  0.21  0.47 -1.37 -1.00 -1.56  1.30 -0.57\n",
       "Unemployment_EXP    0.03  0.83 -0.61 -1.71 -0.16  1.37  1.25 -0.67\n",
       "Tot_receipts        0.84  0.21 -0.07 -1.36 -0.60 -2.34  1.38 -0.13\n",
       "VAT                -0.00 -0.15 -0.92  0.21  1.46 -0.50 -1.09 -0.04\n",
       "Current_taxes       1.35 -0.31  0.39 -0.12 -0.89  1.13 -0.04 -0.85\n",
       "Net_soc_cont       -1.56  0.25  0.37 -0.02  0.14 -1.06  0.44  1.22\n",
       "Diff_employment_MF -0.92  0.87  0.04  2.01 -0.56  0.55 -0.41  0.01\n",
       "Formal_VA           1.35 -0.83  0.82 -1.16 -0.82  0.65  0.25 -0.29\n",
       "Informal_VA         1.47 -0.79  0.60 -1.20 -0.57  0.30 -0.27 -0.02\n",
       "Pub_exp_edu         1.79 -0.46 -0.18 -0.90 -0.59 -1.00  0.63 -0.42\n",
       "Union_density_rate  1.84 -0.15 -0.49  0.21 -0.79 -0.14  0.02 -0.54\n",
       "Barg_cov_rate       0.97  0.36 -0.15 -0.84 -1.09 -0.68  1.42 -0.40\n",
       "Trust_others        1.55 -0.68  0.05  0.33 -0.59  0.45 -0.55 -0.17\n",
       "Trust_polSys        1.00 -1.38  0.79  0.89 -0.19 -0.57  0.00 -0.71\n",
       "gini_disp          -0.91  0.67  0.01  0.48  1.01 -0.17 -0.38 -1.52\n",
       "gini_mkt           -0.08  0.59  0.15 -0.56  0.00  1.27  0.64 -1.79"
      ]
     },
     "execution_count": 44,
     "metadata": {},
     "output_type": "execute_result"
    }
   ],
   "source": [
    "data_clust.groupby('agglomerative').mean().T.iloc[:-2,:].round(2)"
   ]
  },
  {
   "cell_type": "code",
   "execution_count": 45,
   "metadata": {},
   "outputs": [
    {
     "data": {
      "text/html": [
       "<div>\n",
       "<style scoped>\n",
       "    .dataframe tbody tr th:only-of-type {\n",
       "        vertical-align: middle;\n",
       "    }\n",
       "\n",
       "    .dataframe tbody tr th {\n",
       "        vertical-align: top;\n",
       "    }\n",
       "\n",
       "    .dataframe thead th {\n",
       "        text-align: right;\n",
       "    }\n",
       "</style>\n",
       "<table border=\"1\" class=\"dataframe\">\n",
       "  <thead>\n",
       "    <tr style=\"text-align: right;\">\n",
       "      <th>dbscan3</th>\n",
       "      <th>0</th>\n",
       "      <th>1</th>\n",
       "      <th>2</th>\n",
       "    </tr>\n",
       "  </thead>\n",
       "  <tbody>\n",
       "    <tr>\n",
       "      <th>Disability_EXP</th>\n",
       "      <td>0.05</td>\n",
       "      <td>-0.38</td>\n",
       "      <td>1.36</td>\n",
       "    </tr>\n",
       "    <tr>\n",
       "      <th>Fam_child_EXP</th>\n",
       "      <td>-0.17</td>\n",
       "      <td>-0.02</td>\n",
       "      <td>0.55</td>\n",
       "    </tr>\n",
       "    <tr>\n",
       "      <th>Housing_EXP</th>\n",
       "      <td>0.20</td>\n",
       "      <td>-0.50</td>\n",
       "      <td>0.79</td>\n",
       "    </tr>\n",
       "    <tr>\n",
       "      <th>Sickness_EXP</th>\n",
       "      <td>0.04</td>\n",
       "      <td>-0.11</td>\n",
       "      <td>-0.92</td>\n",
       "    </tr>\n",
       "    <tr>\n",
       "      <th>Soc_prot_toGDP</th>\n",
       "      <td>0.88</td>\n",
       "      <td>-0.51</td>\n",
       "      <td>1.15</td>\n",
       "    </tr>\n",
       "    <tr>\n",
       "      <th>Tot_EXP_toGDP</th>\n",
       "      <td>0.94</td>\n",
       "      <td>-0.52</td>\n",
       "      <td>1.09</td>\n",
       "    </tr>\n",
       "    <tr>\n",
       "      <th>Unemployment_EXP</th>\n",
       "      <td>0.31</td>\n",
       "      <td>-0.14</td>\n",
       "      <td>0.06</td>\n",
       "    </tr>\n",
       "    <tr>\n",
       "      <th>Tot_receipts</th>\n",
       "      <td>0.57</td>\n",
       "      <td>-0.30</td>\n",
       "      <td>1.12</td>\n",
       "    </tr>\n",
       "    <tr>\n",
       "      <th>VAT</th>\n",
       "      <td>-1.14</td>\n",
       "      <td>0.53</td>\n",
       "      <td>-0.08</td>\n",
       "    </tr>\n",
       "    <tr>\n",
       "      <th>Current_taxes</th>\n",
       "      <td>0.38</td>\n",
       "      <td>-0.72</td>\n",
       "      <td>1.27</td>\n",
       "    </tr>\n",
       "    <tr>\n",
       "      <th>Net_soc_cont</th>\n",
       "      <td>0.33</td>\n",
       "      <td>0.48</td>\n",
       "      <td>-1.43</td>\n",
       "    </tr>\n",
       "    <tr>\n",
       "      <th>Diff_employment_MF</th>\n",
       "      <td>-0.29</td>\n",
       "      <td>0.24</td>\n",
       "      <td>-0.94</td>\n",
       "    </tr>\n",
       "    <tr>\n",
       "      <th>Formal_VA</th>\n",
       "      <td>0.77</td>\n",
       "      <td>-0.74</td>\n",
       "      <td>1.44</td>\n",
       "    </tr>\n",
       "    <tr>\n",
       "      <th>Informal_VA</th>\n",
       "      <td>0.19</td>\n",
       "      <td>-0.48</td>\n",
       "      <td>1.47</td>\n",
       "    </tr>\n",
       "    <tr>\n",
       "      <th>Pub_exp_edu</th>\n",
       "      <td>0.16</td>\n",
       "      <td>-0.55</td>\n",
       "      <td>1.81</td>\n",
       "    </tr>\n",
       "    <tr>\n",
       "      <th>Union_density_rate</th>\n",
       "      <td>-0.24</td>\n",
       "      <td>-0.51</td>\n",
       "      <td>1.55</td>\n",
       "    </tr>\n",
       "    <tr>\n",
       "      <th>Barg_cov_rate</th>\n",
       "      <td>0.67</td>\n",
       "      <td>-0.53</td>\n",
       "      <td>0.92</td>\n",
       "    </tr>\n",
       "    <tr>\n",
       "      <th>Trust_others</th>\n",
       "      <td>-0.20</td>\n",
       "      <td>-0.44</td>\n",
       "      <td>1.66</td>\n",
       "    </tr>\n",
       "    <tr>\n",
       "      <th>Trust_polSys</th>\n",
       "      <td>0.61</td>\n",
       "      <td>-0.62</td>\n",
       "      <td>1.30</td>\n",
       "    </tr>\n",
       "    <tr>\n",
       "      <th>gini_disp</th>\n",
       "      <td>-0.16</td>\n",
       "      <td>0.38</td>\n",
       "      <td>-0.80</td>\n",
       "    </tr>\n",
       "    <tr>\n",
       "      <th>gini_mkt</th>\n",
       "      <td>0.35</td>\n",
       "      <td>-0.18</td>\n",
       "      <td>0.55</td>\n",
       "    </tr>\n",
       "  </tbody>\n",
       "</table>\n",
       "</div>"
      ],
      "text/plain": [
       "dbscan3                0     1     2\n",
       "Disability_EXP      0.05 -0.38  1.36\n",
       "Fam_child_EXP      -0.17 -0.02  0.55\n",
       "Housing_EXP         0.20 -0.50  0.79\n",
       "Sickness_EXP        0.04 -0.11 -0.92\n",
       "Soc_prot_toGDP      0.88 -0.51  1.15\n",
       "Tot_EXP_toGDP       0.94 -0.52  1.09\n",
       "Unemployment_EXP    0.31 -0.14  0.06\n",
       "Tot_receipts        0.57 -0.30  1.12\n",
       "VAT                -1.14  0.53 -0.08\n",
       "Current_taxes       0.38 -0.72  1.27\n",
       "Net_soc_cont        0.33  0.48 -1.43\n",
       "Diff_employment_MF -0.29  0.24 -0.94\n",
       "Formal_VA           0.77 -0.74  1.44\n",
       "Informal_VA         0.19 -0.48  1.47\n",
       "Pub_exp_edu         0.16 -0.55  1.81\n",
       "Union_density_rate -0.24 -0.51  1.55\n",
       "Barg_cov_rate       0.67 -0.53  0.92\n",
       "Trust_others       -0.20 -0.44  1.66\n",
       "Trust_polSys        0.61 -0.62  1.30\n",
       "gini_disp          -0.16  0.38 -0.80\n",
       "gini_mkt            0.35 -0.18  0.55"
      ]
     },
     "execution_count": 45,
     "metadata": {},
     "output_type": "execute_result"
    }
   ],
   "source": [
    "data_clust.groupby('dbscan3').mean().T.iloc[:-2, 1:].round(2)"
   ]
  },
  {
   "cell_type": "code",
   "execution_count": 46,
   "metadata": {},
   "outputs": [
    {
     "data": {
      "text/html": [
       "<div>\n",
       "<style scoped>\n",
       "    .dataframe tbody tr th:only-of-type {\n",
       "        vertical-align: middle;\n",
       "    }\n",
       "\n",
       "    .dataframe tbody tr th {\n",
       "        vertical-align: top;\n",
       "    }\n",
       "\n",
       "    .dataframe thead th {\n",
       "        text-align: right;\n",
       "    }\n",
       "</style>\n",
       "<table border=\"1\" class=\"dataframe\">\n",
       "  <thead>\n",
       "    <tr style=\"text-align: right;\">\n",
       "      <th>dbscan4</th>\n",
       "      <th>0</th>\n",
       "      <th>1</th>\n",
       "      <th>2</th>\n",
       "      <th>3</th>\n",
       "    </tr>\n",
       "  </thead>\n",
       "  <tbody>\n",
       "    <tr>\n",
       "      <th>Disability_EXP</th>\n",
       "      <td>0.055750</td>\n",
       "      <td>-0.187438</td>\n",
       "      <td>-0.802828</td>\n",
       "      <td>1.360942</td>\n",
       "    </tr>\n",
       "    <tr>\n",
       "      <th>Fam_child_EXP</th>\n",
       "      <td>-0.007812</td>\n",
       "      <td>0.550866</td>\n",
       "      <td>-1.168951</td>\n",
       "      <td>0.549926</td>\n",
       "    </tr>\n",
       "    <tr>\n",
       "      <th>Housing_EXP</th>\n",
       "      <td>0.189698</td>\n",
       "      <td>-0.510025</td>\n",
       "      <td>-0.387530</td>\n",
       "      <td>0.793754</td>\n",
       "    </tr>\n",
       "    <tr>\n",
       "      <th>Sickness_EXP</th>\n",
       "      <td>0.010217</td>\n",
       "      <td>0.299757</td>\n",
       "      <td>-0.912309</td>\n",
       "      <td>-0.916282</td>\n",
       "    </tr>\n",
       "    <tr>\n",
       "      <th>Soc_prot_toGDP</th>\n",
       "      <td>0.928336</td>\n",
       "      <td>-0.848821</td>\n",
       "      <td>0.024093</td>\n",
       "      <td>1.149441</td>\n",
       "    </tr>\n",
       "    <tr>\n",
       "      <th>Tot_EXP_toGDP</th>\n",
       "      <td>0.982021</td>\n",
       "      <td>-0.852314</td>\n",
       "      <td>-0.004884</td>\n",
       "      <td>1.089762</td>\n",
       "    </tr>\n",
       "    <tr>\n",
       "      <th>Unemployment_EXP</th>\n",
       "      <td>0.421932</td>\n",
       "      <td>-0.586580</td>\n",
       "      <td>0.730950</td>\n",
       "      <td>0.055709</td>\n",
       "    </tr>\n",
       "    <tr>\n",
       "      <th>Tot_receipts</th>\n",
       "      <td>0.920729</td>\n",
       "      <td>-0.527699</td>\n",
       "      <td>0.030192</td>\n",
       "      <td>1.118780</td>\n",
       "    </tr>\n",
       "    <tr>\n",
       "      <th>VAT</th>\n",
       "      <td>-0.999805</td>\n",
       "      <td>0.832478</td>\n",
       "      <td>0.153052</td>\n",
       "      <td>-0.075532</td>\n",
       "    </tr>\n",
       "    <tr>\n",
       "      <th>Current_taxes</th>\n",
       "      <td>0.101314</td>\n",
       "      <td>-0.899676</td>\n",
       "      <td>-0.435511</td>\n",
       "      <td>1.274168</td>\n",
       "    </tr>\n",
       "    <tr>\n",
       "      <th>Net_soc_cont</th>\n",
       "      <td>0.490609</td>\n",
       "      <td>0.592109</td>\n",
       "      <td>0.278718</td>\n",
       "      <td>-1.427818</td>\n",
       "    </tr>\n",
       "    <tr>\n",
       "      <th>Diff_employment_MF</th>\n",
       "      <td>-0.304897</td>\n",
       "      <td>-0.041072</td>\n",
       "      <td>0.607509</td>\n",
       "      <td>-0.944724</td>\n",
       "    </tr>\n",
       "    <tr>\n",
       "      <th>Formal_VA</th>\n",
       "      <td>0.695481</td>\n",
       "      <td>-0.699600</td>\n",
       "      <td>-0.867780</td>\n",
       "      <td>1.443726</td>\n",
       "    </tr>\n",
       "    <tr>\n",
       "      <th>Informal_VA</th>\n",
       "      <td>0.098258</td>\n",
       "      <td>-0.346055</td>\n",
       "      <td>-0.781466</td>\n",
       "      <td>1.474925</td>\n",
       "    </tr>\n",
       "    <tr>\n",
       "      <th>Pub_exp_edu</th>\n",
       "      <td>0.184727</td>\n",
       "      <td>-0.593889</td>\n",
       "      <td>-0.402302</td>\n",
       "      <td>1.805156</td>\n",
       "    </tr>\n",
       "    <tr>\n",
       "      <th>Union_density_rate</th>\n",
       "      <td>-0.176779</td>\n",
       "      <td>-0.666612</td>\n",
       "      <td>-0.248711</td>\n",
       "      <td>1.547753</td>\n",
       "    </tr>\n",
       "    <tr>\n",
       "      <th>Barg_cov_rate</th>\n",
       "      <td>0.819040</td>\n",
       "      <td>-0.932438</td>\n",
       "      <td>0.076074</td>\n",
       "      <td>0.919397</td>\n",
       "    </tr>\n",
       "    <tr>\n",
       "      <th>Trust_others</th>\n",
       "      <td>-0.303837</td>\n",
       "      <td>-0.330060</td>\n",
       "      <td>-0.765362</td>\n",
       "      <td>1.657643</td>\n",
       "    </tr>\n",
       "    <tr>\n",
       "      <th>Trust_polSys</th>\n",
       "      <td>0.406488</td>\n",
       "      <td>-0.276394</td>\n",
       "      <td>-1.388239</td>\n",
       "      <td>1.303851</td>\n",
       "    </tr>\n",
       "    <tr>\n",
       "      <th>gini_disp</th>\n",
       "      <td>-0.241414</td>\n",
       "      <td>0.255100</td>\n",
       "      <td>0.534233</td>\n",
       "      <td>-0.801349</td>\n",
       "    </tr>\n",
       "    <tr>\n",
       "      <th>gini_mkt</th>\n",
       "      <td>0.574181</td>\n",
       "      <td>-0.526913</td>\n",
       "      <td>0.490249</td>\n",
       "      <td>0.554812</td>\n",
       "    </tr>\n",
       "  </tbody>\n",
       "</table>\n",
       "</div>"
      ],
      "text/plain": [
       "dbscan4                    0         1         2         3\n",
       "Disability_EXP      0.055750 -0.187438 -0.802828  1.360942\n",
       "Fam_child_EXP      -0.007812  0.550866 -1.168951  0.549926\n",
       "Housing_EXP         0.189698 -0.510025 -0.387530  0.793754\n",
       "Sickness_EXP        0.010217  0.299757 -0.912309 -0.916282\n",
       "Soc_prot_toGDP      0.928336 -0.848821  0.024093  1.149441\n",
       "Tot_EXP_toGDP       0.982021 -0.852314 -0.004884  1.089762\n",
       "Unemployment_EXP    0.421932 -0.586580  0.730950  0.055709\n",
       "Tot_receipts        0.920729 -0.527699  0.030192  1.118780\n",
       "VAT                -0.999805  0.832478  0.153052 -0.075532\n",
       "Current_taxes       0.101314 -0.899676 -0.435511  1.274168\n",
       "Net_soc_cont        0.490609  0.592109  0.278718 -1.427818\n",
       "Diff_employment_MF -0.304897 -0.041072  0.607509 -0.944724\n",
       "Formal_VA           0.695481 -0.699600 -0.867780  1.443726\n",
       "Informal_VA         0.098258 -0.346055 -0.781466  1.474925\n",
       "Pub_exp_edu         0.184727 -0.593889 -0.402302  1.805156\n",
       "Union_density_rate -0.176779 -0.666612 -0.248711  1.547753\n",
       "Barg_cov_rate       0.819040 -0.932438  0.076074  0.919397\n",
       "Trust_others       -0.303837 -0.330060 -0.765362  1.657643\n",
       "Trust_polSys        0.406488 -0.276394 -1.388239  1.303851\n",
       "gini_disp          -0.241414  0.255100  0.534233 -0.801349\n",
       "gini_mkt            0.574181 -0.526913  0.490249  0.554812"
      ]
     },
     "execution_count": 46,
     "metadata": {},
     "output_type": "execute_result"
    }
   ],
   "source": [
    "data_clust.groupby('dbscan4').mean().T.iloc[:-2, 1:]"
   ]
  }
 ],
 "metadata": {
  "kernelspec": {
   "display_name": "base",
   "language": "python",
   "name": "python3"
  },
  "language_info": {
   "codemirror_mode": {
    "name": "ipython",
    "version": 3
   },
   "file_extension": ".py",
   "mimetype": "text/x-python",
   "name": "python",
   "nbconvert_exporter": "python",
   "pygments_lexer": "ipython3",
   "version": "3.9.12"
  },
  "orig_nbformat": 4,
  "vscode": {
   "interpreter": {
    "hash": "74752721add0626f2220fadf2a0711c5669feec950a62b3099d53adfa41541cb"
   }
  }
 },
 "nbformat": 4,
 "nbformat_minor": 2
}
